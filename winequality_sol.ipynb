{
 "cells": [
  {
   "cell_type": "markdown",
   "id": "940bdea9",
   "metadata": {},
   "source": [
    "# Wine Quality"
   ]
  },
  {
   "cell_type": "code",
   "execution_count": 1,
   "id": "e22b1b30",
   "metadata": {},
   "outputs": [],
   "source": [
    "import pandas as pd\n",
    "import numpy as np\n",
    "import matplotlib.pyplot as plt\n",
    "import warnings\n",
    "warnings.filterwarnings('ignore')\n",
    "import seaborn as sns"
   ]
  },
  {
   "cell_type": "code",
   "execution_count": 2,
   "id": "939d435f",
   "metadata": {},
   "outputs": [
    {
     "data": {
      "text/html": [
       "<div>\n",
       "<style scoped>\n",
       "    .dataframe tbody tr th:only-of-type {\n",
       "        vertical-align: middle;\n",
       "    }\n",
       "\n",
       "    .dataframe tbody tr th {\n",
       "        vertical-align: top;\n",
       "    }\n",
       "\n",
       "    .dataframe thead th {\n",
       "        text-align: right;\n",
       "    }\n",
       "</style>\n",
       "<table border=\"1\" class=\"dataframe\">\n",
       "  <thead>\n",
       "    <tr style=\"text-align: right;\">\n",
       "      <th></th>\n",
       "      <th>fixed acidity</th>\n",
       "      <th>volatile acidity</th>\n",
       "      <th>citric acid</th>\n",
       "      <th>residual sugar</th>\n",
       "      <th>chlorides</th>\n",
       "      <th>free sulfur dioxide</th>\n",
       "      <th>total sulfur dioxide</th>\n",
       "      <th>density</th>\n",
       "      <th>pH</th>\n",
       "      <th>sulphates</th>\n",
       "      <th>alcohol</th>\n",
       "      <th>quality</th>\n",
       "    </tr>\n",
       "  </thead>\n",
       "  <tbody>\n",
       "    <tr>\n",
       "      <th>0</th>\n",
       "      <td>7.4</td>\n",
       "      <td>0.70</td>\n",
       "      <td>0.00</td>\n",
       "      <td>1.9</td>\n",
       "      <td>0.076</td>\n",
       "      <td>11.0</td>\n",
       "      <td>34.0</td>\n",
       "      <td>0.9978</td>\n",
       "      <td>3.51</td>\n",
       "      <td>0.56</td>\n",
       "      <td>9.4</td>\n",
       "      <td>5</td>\n",
       "    </tr>\n",
       "    <tr>\n",
       "      <th>1</th>\n",
       "      <td>7.8</td>\n",
       "      <td>0.88</td>\n",
       "      <td>0.00</td>\n",
       "      <td>2.6</td>\n",
       "      <td>0.098</td>\n",
       "      <td>25.0</td>\n",
       "      <td>67.0</td>\n",
       "      <td>0.9968</td>\n",
       "      <td>3.20</td>\n",
       "      <td>0.68</td>\n",
       "      <td>9.8</td>\n",
       "      <td>5</td>\n",
       "    </tr>\n",
       "    <tr>\n",
       "      <th>2</th>\n",
       "      <td>7.8</td>\n",
       "      <td>0.76</td>\n",
       "      <td>0.04</td>\n",
       "      <td>2.3</td>\n",
       "      <td>0.092</td>\n",
       "      <td>15.0</td>\n",
       "      <td>54.0</td>\n",
       "      <td>0.9970</td>\n",
       "      <td>3.26</td>\n",
       "      <td>0.65</td>\n",
       "      <td>9.8</td>\n",
       "      <td>5</td>\n",
       "    </tr>\n",
       "    <tr>\n",
       "      <th>3</th>\n",
       "      <td>11.2</td>\n",
       "      <td>0.28</td>\n",
       "      <td>0.56</td>\n",
       "      <td>1.9</td>\n",
       "      <td>0.075</td>\n",
       "      <td>17.0</td>\n",
       "      <td>60.0</td>\n",
       "      <td>0.9980</td>\n",
       "      <td>3.16</td>\n",
       "      <td>0.58</td>\n",
       "      <td>9.8</td>\n",
       "      <td>6</td>\n",
       "    </tr>\n",
       "    <tr>\n",
       "      <th>4</th>\n",
       "      <td>7.4</td>\n",
       "      <td>0.70</td>\n",
       "      <td>0.00</td>\n",
       "      <td>1.9</td>\n",
       "      <td>0.076</td>\n",
       "      <td>11.0</td>\n",
       "      <td>34.0</td>\n",
       "      <td>0.9978</td>\n",
       "      <td>3.51</td>\n",
       "      <td>0.56</td>\n",
       "      <td>9.4</td>\n",
       "      <td>5</td>\n",
       "    </tr>\n",
       "  </tbody>\n",
       "</table>\n",
       "</div>"
      ],
      "text/plain": [
       "   fixed acidity  volatile acidity  citric acid  residual sugar  chlorides  \\\n",
       "0            7.4              0.70         0.00             1.9      0.076   \n",
       "1            7.8              0.88         0.00             2.6      0.098   \n",
       "2            7.8              0.76         0.04             2.3      0.092   \n",
       "3           11.2              0.28         0.56             1.9      0.075   \n",
       "4            7.4              0.70         0.00             1.9      0.076   \n",
       "\n",
       "   free sulfur dioxide  total sulfur dioxide  density    pH  sulphates  \\\n",
       "0                 11.0                  34.0   0.9978  3.51       0.56   \n",
       "1                 25.0                  67.0   0.9968  3.20       0.68   \n",
       "2                 15.0                  54.0   0.9970  3.26       0.65   \n",
       "3                 17.0                  60.0   0.9980  3.16       0.58   \n",
       "4                 11.0                  34.0   0.9978  3.51       0.56   \n",
       "\n",
       "   alcohol  quality  \n",
       "0      9.4        5  \n",
       "1      9.8        5  \n",
       "2      9.8        5  \n",
       "3      9.8        6  \n",
       "4      9.4        5  "
      ]
     },
     "execution_count": 2,
     "metadata": {},
     "output_type": "execute_result"
    }
   ],
   "source": [
    "df=pd.read_csv('C:\\\\Users\\\\DELL\\\\Desktop\\\\Data Trained\\\\Practice Projects\\\\winequality-red.csv')\n",
    "df.head()"
   ]
  },
  {
   "cell_type": "markdown",
   "id": "232cbbdd",
   "metadata": {},
   "source": [
    "## EDA"
   ]
  },
  {
   "cell_type": "code",
   "execution_count": 3,
   "id": "7f0f8061",
   "metadata": {},
   "outputs": [
    {
     "data": {
      "text/plain": [
       "(1599, 12)"
      ]
     },
     "execution_count": 3,
     "metadata": {},
     "output_type": "execute_result"
    }
   ],
   "source": [
    "df.shape"
   ]
  },
  {
   "cell_type": "code",
   "execution_count": 4,
   "id": "cd08ec37",
   "metadata": {},
   "outputs": [
    {
     "data": {
      "text/plain": [
       "fixed acidity           float64\n",
       "volatile acidity        float64\n",
       "citric acid             float64\n",
       "residual sugar          float64\n",
       "chlorides               float64\n",
       "free sulfur dioxide     float64\n",
       "total sulfur dioxide    float64\n",
       "density                 float64\n",
       "pH                      float64\n",
       "sulphates               float64\n",
       "alcohol                 float64\n",
       "quality                   int64\n",
       "dtype: object"
      ]
     },
     "execution_count": 4,
     "metadata": {},
     "output_type": "execute_result"
    }
   ],
   "source": [
    "df.dtypes"
   ]
  },
  {
   "cell_type": "code",
   "execution_count": 5,
   "id": "e9ce0b72",
   "metadata": {},
   "outputs": [
    {
     "data": {
      "text/plain": [
       "array([5, 6, 7, 4, 8, 3], dtype=int64)"
      ]
     },
     "execution_count": 5,
     "metadata": {},
     "output_type": "execute_result"
    }
   ],
   "source": [
    "df['quality'].unique()"
   ]
  },
  {
   "cell_type": "code",
   "execution_count": 7,
   "id": "7250d21f",
   "metadata": {},
   "outputs": [],
   "source": [
    "# Here, we will classify 7 or higher as 'good/1' and the remaining as 'not good/0'."
   ]
  },
  {
   "cell_type": "code",
   "execution_count": 8,
   "id": "bd625c05",
   "metadata": {},
   "outputs": [],
   "source": [
    "df['quality']=df['quality'].replace([3,4,5,6],0)\n",
    "df['quality']=df['quality'].replace([7,8],1)"
   ]
  },
  {
   "cell_type": "code",
   "execution_count": 9,
   "id": "a2e00517",
   "metadata": {},
   "outputs": [
    {
     "data": {
      "text/plain": [
       "array([0, 1], dtype=int64)"
      ]
     },
     "execution_count": 9,
     "metadata": {},
     "output_type": "execute_result"
    }
   ],
   "source": [
    "df['quality'].unique()"
   ]
  },
  {
   "cell_type": "code",
   "execution_count": 10,
   "id": "641888e1",
   "metadata": {},
   "outputs": [
    {
     "data": {
      "text/plain": [
       "fixed acidity           0\n",
       "volatile acidity        0\n",
       "citric acid             0\n",
       "residual sugar          0\n",
       "chlorides               0\n",
       "free sulfur dioxide     0\n",
       "total sulfur dioxide    0\n",
       "density                 0\n",
       "pH                      0\n",
       "sulphates               0\n",
       "alcohol                 0\n",
       "quality                 0\n",
       "dtype: int64"
      ]
     },
     "execution_count": 10,
     "metadata": {},
     "output_type": "execute_result"
    }
   ],
   "source": [
    "df.isnull().sum()"
   ]
  },
  {
   "cell_type": "code",
   "execution_count": 11,
   "id": "27bf9433",
   "metadata": {},
   "outputs": [
    {
     "data": {
      "text/plain": [
       "<AxesSubplot:xlabel='quality', ylabel='count'>"
      ]
     },
     "execution_count": 11,
     "metadata": {},
     "output_type": "execute_result"
    },
    {
     "data": {
      "image/png": "[encoded data removed]",
      "text/plain": [
       "<Figure size 432x288 with 1 Axes>"
      ]
     },
     "metadata": {
      "needs_background": "light"
     },
     "output_type": "display_data"
    }
   ],
   "source": [
    "sns.countplot(df['quality'])"
   ]
  },
  {
   "cell_type": "code",
   "execution_count": 12,
   "id": "56e0c172",
   "metadata": {},
   "outputs": [
    {
     "data": {
      "text/plain": [
       "0    1382\n",
       "1     217\n",
       "Name: quality, dtype: int64"
      ]
     },
     "execution_count": 12,
     "metadata": {},
     "output_type": "execute_result"
    }
   ],
   "source": [
    "df['quality'].value_counts()"
   ]
  },
  {
   "cell_type": "code",
   "execution_count": 13,
   "id": "263aa427",
   "metadata": {},
   "outputs": [],
   "source": [
    "## There is a class imbalance here"
   ]
  },
  {
   "cell_type": "code",
   "execution_count": 14,
   "id": "afe6d857",
   "metadata": {},
   "outputs": [],
   "source": [
    "# from imblearn.over_sampling import SMOTE\n",
    "# sm=SMOTE()\n",
    "# x,y =sm.fit_resample(x,y)"
   ]
  },
  {
   "cell_type": "code",
   "execution_count": 15,
   "id": "7ef055b0",
   "metadata": {},
   "outputs": [
    {
     "data": {
      "text/plain": [
       "<AxesSubplot:xlabel='fixed acidity', ylabel='Density'>"
      ]
     },
     "execution_count": 15,
     "metadata": {},
     "output_type": "execute_result"
    },
    {
     "data": {
      "image/png": "[encoded data removed]",
      "text/plain": [
       "<Figure size 432x288 with 1 Axes>"
      ]
     },
     "metadata": {
      "needs_background": "light"
     },
     "output_type": "display_data"
    }
   ],
   "source": [
    "sns.distplot(df['fixed acidity'])"
   ]
  },
  {
   "cell_type": "code",
   "execution_count": 16,
   "id": "6c8d2a2c",
   "metadata": {},
   "outputs": [
    {
     "data": {
      "text/plain": [
       "<AxesSubplot:xlabel='volatile acidity', ylabel='Density'>"
      ]
     },
     "execution_count": 16,
     "metadata": {},
     "output_type": "execute_result"
    },
    {
     "data": {
      "image/png": "[encoded data removed]",
      "text/plain": [
       "<Figure size 432x288 with 1 Axes>"
      ]
     },
     "metadata": {
      "needs_background": "light"
     },
     "output_type": "display_data"
    }
   ],
   "source": [
    "sns.distplot(df['volatile acidity'])"
   ]
  },
  {
   "cell_type": "code",
   "execution_count": 17,
   "id": "c2a56726",
   "metadata": {},
   "outputs": [
    {
     "data": {
      "text/plain": [
       "<AxesSubplot:xlabel='citric acid', ylabel='Density'>"
      ]
     },
     "execution_count": 17,
     "metadata": {},
     "output_type": "execute_result"
    },
    {
     "data": {
      "image/png": "[encoded data removed]",
      "text/plain": [
       "<Figure size 432x288 with 1 Axes>"
      ]
     },
     "metadata": {
      "needs_background": "light"
     },
     "output_type": "display_data"
    }
   ],
   "source": [
    "sns.distplot(df['citric acid'])"
   ]
  },
  {
   "cell_type": "code",
   "execution_count": 18,
   "id": "82641941",
   "metadata": {},
   "outputs": [
    {
     "data": {
      "text/plain": [
       "<AxesSubplot:xlabel='residual sugar', ylabel='Density'>"
      ]
     },
     "execution_count": 18,
     "metadata": {},
     "output_type": "execute_result"
    },
    {
     "data": {
      "image/png": "[encoded data removed]",
      "text/plain": [
       "<Figure size 432x288 with 1 Axes>"
      ]
     },
     "metadata": {
      "needs_background": "light"
     },
     "output_type": "display_data"
    }
   ],
   "source": [
    "sns.distplot(df['residual sugar'])"
   ]
  },
  {
   "cell_type": "code",
   "execution_count": 19,
   "id": "dd1cbd0c",
   "metadata": {},
   "outputs": [
    {
     "data": {
      "text/plain": [
       "<AxesSubplot:xlabel='chlorides', ylabel='Density'>"
      ]
     },
     "execution_count": 19,
     "metadata": {},
     "output_type": "execute_result"
    },
    {
     "data": {
      "image/png": "[encoded data removed]",
      "text/plain": [
       "<Figure size 432x288 with 1 Axes>"
      ]
     },
     "metadata": {
      "needs_background": "light"
     },
     "output_type": "display_data"
    }
   ],
   "source": [
    "sns.distplot(df['chlorides'])"
   ]
  },
  {
   "cell_type": "code",
   "execution_count": 20,
   "id": "eceaa7f6",
   "metadata": {},
   "outputs": [
    {
     "data": {
      "text/plain": [
       "<AxesSubplot:xlabel='free sulfur dioxide', ylabel='Density'>"
      ]
     },
     "execution_count": 20,
     "metadata": {},
     "output_type": "execute_result"
    },
    {
     "data": {
      "image/png": "[encoded data removed]",
      "text/plain": [
       "<Figure size 432x288 with 1 Axes>"
      ]
     },
     "metadata": {
      "needs_background": "light"
     },
     "output_type": "display_data"
    }
   ],
   "source": [
    "sns.distplot(df['free sulfur dioxide'])"
   ]
  },
  {
   "cell_type": "code",
   "execution_count": 21,
   "id": "f955476d",
   "metadata": {},
   "outputs": [
    {
     "data": {
      "text/plain": [
       "<AxesSubplot:xlabel='total sulfur dioxide', ylabel='Density'>"
      ]
     },
     "execution_count": 21,
     "metadata": {},
     "output_type": "execute_result"
    },
    {
     "data": {
      "image/png": "[encoded data removed]",
      "text/plain": [
       "<Figure size 432x288 with 1 Axes>"
      ]
     },
     "metadata": {
      "needs_background": "light"
     },
     "output_type": "display_data"
    }
   ],
   "source": [
    "sns.distplot(df['total sulfur dioxide'])"
   ]
  },
  {
   "cell_type": "code",
   "execution_count": 22,
   "id": "1e0ac792",
   "metadata": {},
   "outputs": [
    {
     "data": {
      "text/plain": [
       "<AxesSubplot:xlabel='density', ylabel='Density'>"
      ]
     },
     "execution_count": 22,
     "metadata": {},
     "output_type": "execute_result"
    },
    {
     "data": {
      "image/png": "[encoded data removed]",
      "text/plain": [
       "<Figure size 432x288 with 1 Axes>"
      ]
     },
     "metadata": {
      "needs_background": "light"
     },
     "output_type": "display_data"
    }
   ],
   "source": [
    "sns.distplot(df['density'])"
   ]
  },
  {
   "cell_type": "code",
   "execution_count": 23,
   "id": "d0596d23",
   "metadata": {},
   "outputs": [
    {
     "data": {
      "text/plain": [
       "<AxesSubplot:xlabel='pH', ylabel='Density'>"
      ]
     },
     "execution_count": 23,
     "metadata": {},
     "output_type": "execute_result"
    },
    {
     "data": {
      "image/png": "[encoded data removed]",
      "text/plain": [
       "<Figure size 432x288 with 1 Axes>"
      ]
     },
     "metadata": {
      "needs_background": "light"
     },
     "output_type": "display_data"
    }
   ],
   "source": [
    "sns.distplot(df['pH'])"
   ]
  },
  {
   "cell_type": "code",
   "execution_count": 24,
   "id": "74fda99a",
   "metadata": {},
   "outputs": [
    {
     "data": {
      "text/plain": [
       "<AxesSubplot:xlabel='pH', ylabel='Density'>"
      ]
     },
     "execution_count": 24,
     "metadata": {},
     "output_type": "execute_result"
    },
    {
     "data": {
      "image/png": "[encoded data removed]",
      "text/plain": [
       "<Figure size 432x288 with 1 Axes>"
      ]
     },
     "metadata": {
      "needs_background": "light"
     },
     "output_type": "display_data"
    }
   ],
   "source": [
    "sns.distplot(df['pH'])"
   ]
  },
  {
   "cell_type": "code",
   "execution_count": 25,
   "id": "b1c95be4",
   "metadata": {},
   "outputs": [
    {
     "data": {
      "text/plain": [
       "<AxesSubplot:xlabel='alcohol', ylabel='Density'>"
      ]
     },
     "execution_count": 25,
     "metadata": {},
     "output_type": "execute_result"
    },
    {
     "data": {
      "image/png": "[encoded data removed]",
      "text/plain": [
       "<Figure size 432x288 with 1 Axes>"
      ]
     },
     "metadata": {
      "needs_background": "light"
     },
     "output_type": "display_data"
    }
   ],
   "source": [
    "sns.distplot(df['alcohol'])"
   ]
  },
  {
   "cell_type": "code",
   "execution_count": 26,
   "id": "3c2d16d7",
   "metadata": {},
   "outputs": [],
   "source": [
    "## Volatile acidity ,citric acid are not normally distributed."
   ]
  },
  {
   "cell_type": "code",
   "execution_count": 27,
   "id": "4c4db194",
   "metadata": {},
   "outputs": [
    {
     "data": {
      "text/plain": [
       "<AxesSubplot:xlabel='fixed acidity'>"
      ]
     },
     "execution_count": 27,
     "metadata": {},
     "output_type": "execute_result"
    },
    {
     "data": {
      "image/png": "[encoded data removed]",
      "text/plain": [
       "<Figure size 432x288 with 1 Axes>"
      ]
     },
     "metadata": {
      "needs_background": "light"
     },
     "output_type": "display_data"
    }
   ],
   "source": [
    "sns.boxplot(df['fixed acidity'])"
   ]
  },
  {
   "cell_type": "code",
   "execution_count": 28,
   "id": "10136eba",
   "metadata": {},
   "outputs": [
    {
     "data": {
      "text/plain": [
       "<AxesSubplot:xlabel='volatile acidity'>"
      ]
     },
     "execution_count": 28,
     "metadata": {},
     "output_type": "execute_result"
    },
    {
     "data": {
      "image/png": "[encoded data removed]",
      "text/plain": [
       "<Figure size 432x288 with 1 Axes>"
      ]
     },
     "metadata": {
      "needs_background": "light"
     },
     "output_type": "display_data"
    }
   ],
   "source": [
    "sns.boxplot(df['volatile acidity'])"
   ]
  },
  {
   "cell_type": "code",
   "execution_count": 29,
   "id": "47aea4eb",
   "metadata": {},
   "outputs": [
    {
     "data": {
      "text/plain": [
       "<AxesSubplot:xlabel='citric acid'>"
      ]
     },
     "execution_count": 29,
     "metadata": {},
     "output_type": "execute_result"
    },
    {
     "data": {
      "image/png": "[encoded data removed]",
      "text/plain": [
       "<Figure size 432x288 with 1 Axes>"
      ]
     },
     "metadata": {
      "needs_background": "light"
     },
     "output_type": "display_data"
    }
   ],
   "source": [
    "sns.boxplot(df['citric acid'])"
   ]
  },
  {
   "cell_type": "code",
   "execution_count": 30,
   "id": "c1cb36cd",
   "metadata": {},
   "outputs": [
    {
     "data": {
      "text/plain": [
       "<AxesSubplot:xlabel='residual sugar'>"
      ]
     },
     "execution_count": 30,
     "metadata": {},
     "output_type": "execute_result"
    },
    {
     "data": {
      "image/png": "[encoded data removed]",
      "text/plain": [
       "<Figure size 432x288 with 1 Axes>"
      ]
     },
     "metadata": {
      "needs_background": "light"
     },
     "output_type": "display_data"
    }
   ],
   "source": [
    "sns.boxplot(df['residual sugar'])"
   ]
  },
  {
   "cell_type": "code",
   "execution_count": 31,
   "id": "332e7483",
   "metadata": {},
   "outputs": [
    {
     "data": {
      "text/plain": [
       "<AxesSubplot:xlabel='chlorides'>"
      ]
     },
     "execution_count": 31,
     "metadata": {},
     "output_type": "execute_result"
    },
    {
     "data": {
      "image/png": "[encoded data removed]",
      "text/plain": [
       "<Figure size 432x288 with 1 Axes>"
      ]
     },
     "metadata": {
      "needs_background": "light"
     },
     "output_type": "display_data"
    }
   ],
   "source": [
    "sns.boxplot(df['chlorides'])"
   ]
  },
  {
   "cell_type": "code",
   "execution_count": 32,
   "id": "0a2b2ebb",
   "metadata": {},
   "outputs": [
    {
     "data": {
      "text/plain": [
       "<AxesSubplot:xlabel='free sulfur dioxide'>"
      ]
     },
     "execution_count": 32,
     "metadata": {},
     "output_type": "execute_result"
    },
    {
     "data": {
      "image/png": "[encoded data removed]",
      "text/plain": [
       "<Figure size 432x288 with 1 Axes>"
      ]
     },
     "metadata": {
      "needs_background": "light"
     },
     "output_type": "display_data"
    }
   ],
   "source": [
    "sns.boxplot(df['free sulfur dioxide'])"
   ]
  },
  {
   "cell_type": "code",
   "execution_count": 33,
   "id": "d0fb8fc1",
   "metadata": {},
   "outputs": [
    {
     "data": {
      "text/plain": [
       "<AxesSubplot:xlabel='total sulfur dioxide'>"
      ]
     },
     "execution_count": 33,
     "metadata": {},
     "output_type": "execute_result"
    },
    {
     "data": {
      "image/png": "[encoded data removed]",
      "text/plain": [
       "<Figure size 432x288 with 1 Axes>"
      ]
     },
     "metadata": {
      "needs_background": "light"
     },
     "output_type": "display_data"
    }
   ],
   "source": [
    "sns.boxplot(df['total sulfur dioxide'])"
   ]
  },
  {
   "cell_type": "code",
   "execution_count": 34,
   "id": "487a2bbd",
   "metadata": {},
   "outputs": [
    {
     "data": {
      "text/plain": [
       "<AxesSubplot:xlabel='density'>"
      ]
     },
     "execution_count": 34,
     "metadata": {},
     "output_type": "execute_result"
    },
    {
     "data": {
      "image/png": "[encoded data removed]",
      "text/plain": [
       "<Figure size 432x288 with 1 Axes>"
      ]
     },
     "metadata": {
      "needs_background": "light"
     },
     "output_type": "display_data"
    }
   ],
   "source": [
    "sns.boxplot(df['density'])"
   ]
  },
  {
   "cell_type": "code",
   "execution_count": 35,
   "id": "472a369c",
   "metadata": {},
   "outputs": [
    {
     "data": {
      "text/plain": [
       "<AxesSubplot:xlabel='pH'>"
      ]
     },
     "execution_count": 35,
     "metadata": {},
     "output_type": "execute_result"
    },
    {
     "data": {
      "image/png": "[encoded data removed]",
      "text/plain": [
       "<Figure size 432x288 with 1 Axes>"
      ]
     },
     "metadata": {
      "needs_background": "light"
     },
     "output_type": "display_data"
    }
   ],
   "source": [
    "sns.boxplot(df['pH'])"
   ]
  },
  {
   "cell_type": "code",
   "execution_count": 36,
   "id": "afa1e7ce",
   "metadata": {},
   "outputs": [
    {
     "data": {
      "text/plain": [
       "<AxesSubplot:xlabel='sulphates'>"
      ]
     },
     "execution_count": 36,
     "metadata": {},
     "output_type": "execute_result"
    },
    {
     "data": {
      "image/png": "[encoded data removed]",
      "text/plain": [
       "<Figure size 432x288 with 1 Axes>"
      ]
     },
     "metadata": {
      "needs_background": "light"
     },
     "output_type": "display_data"
    }
   ],
   "source": [
    "sns.boxplot(df['sulphates'])"
   ]
  },
  {
   "cell_type": "code",
   "execution_count": 37,
   "id": "e37a1ff3",
   "metadata": {},
   "outputs": [
    {
     "data": {
      "text/plain": [
       "<AxesSubplot:xlabel='alcohol'>"
      ]
     },
     "execution_count": 37,
     "metadata": {},
     "output_type": "execute_result"
    },
    {
     "data": {
      "image/png": "[encoded data removed]",
      "text/plain": [
       "<Figure size 432x288 with 1 Axes>"
      ]
     },
     "metadata": {
      "needs_background": "light"
     },
     "output_type": "display_data"
    }
   ],
   "source": [
    "sns.boxplot(df['alcohol'])"
   ]
  },
  {
   "cell_type": "code",
   "execution_count": 38,
   "id": "0db5e932",
   "metadata": {},
   "outputs": [],
   "source": [
    "## Outliers are present in the data"
   ]
  },
  {
   "cell_type": "code",
   "execution_count": 39,
   "id": "7e2ff9c1",
   "metadata": {},
   "outputs": [
    {
     "data": {
      "text/html": [
       "<div>\n",
       "<style scoped>\n",
       "    .dataframe tbody tr th:only-of-type {\n",
       "        vertical-align: middle;\n",
       "    }\n",
       "\n",
       "    .dataframe tbody tr th {\n",
       "        vertical-align: top;\n",
       "    }\n",
       "\n",
       "    .dataframe thead th {\n",
       "        text-align: right;\n",
       "    }\n",
       "</style>\n",
       "<table border=\"1\" class=\"dataframe\">\n",
       "  <thead>\n",
       "    <tr style=\"text-align: right;\">\n",
       "      <th></th>\n",
       "      <th>fixed acidity</th>\n",
       "      <th>volatile acidity</th>\n",
       "      <th>citric acid</th>\n",
       "      <th>residual sugar</th>\n",
       "      <th>chlorides</th>\n",
       "      <th>free sulfur dioxide</th>\n",
       "      <th>total sulfur dioxide</th>\n",
       "      <th>density</th>\n",
       "      <th>pH</th>\n",
       "      <th>sulphates</th>\n",
       "      <th>alcohol</th>\n",
       "      <th>quality</th>\n",
       "    </tr>\n",
       "  </thead>\n",
       "  <tbody>\n",
       "    <tr>\n",
       "      <th>fixed acidity</th>\n",
       "      <td>1.000000</td>\n",
       "      <td>-0.256131</td>\n",
       "      <td>0.671703</td>\n",
       "      <td>0.114777</td>\n",
       "      <td>0.093705</td>\n",
       "      <td>-0.153794</td>\n",
       "      <td>-0.113181</td>\n",
       "      <td>0.668047</td>\n",
       "      <td>-0.682978</td>\n",
       "      <td>0.183006</td>\n",
       "      <td>-0.061668</td>\n",
       "      <td>0.120061</td>\n",
       "    </tr>\n",
       "    <tr>\n",
       "      <th>volatile acidity</th>\n",
       "      <td>-0.256131</td>\n",
       "      <td>1.000000</td>\n",
       "      <td>-0.552496</td>\n",
       "      <td>0.001918</td>\n",
       "      <td>0.061298</td>\n",
       "      <td>-0.010504</td>\n",
       "      <td>0.076470</td>\n",
       "      <td>0.022026</td>\n",
       "      <td>0.234937</td>\n",
       "      <td>-0.260987</td>\n",
       "      <td>-0.202288</td>\n",
       "      <td>-0.270712</td>\n",
       "    </tr>\n",
       "    <tr>\n",
       "      <th>citric acid</th>\n",
       "      <td>0.671703</td>\n",
       "      <td>-0.552496</td>\n",
       "      <td>1.000000</td>\n",
       "      <td>0.143577</td>\n",
       "      <td>0.203823</td>\n",
       "      <td>-0.060978</td>\n",
       "      <td>0.035533</td>\n",
       "      <td>0.364947</td>\n",
       "      <td>-0.541904</td>\n",
       "      <td>0.312770</td>\n",
       "      <td>0.109903</td>\n",
       "      <td>0.214716</td>\n",
       "    </tr>\n",
       "    <tr>\n",
       "      <th>residual sugar</th>\n",
       "      <td>0.114777</td>\n",
       "      <td>0.001918</td>\n",
       "      <td>0.143577</td>\n",
       "      <td>1.000000</td>\n",
       "      <td>0.055610</td>\n",
       "      <td>0.187049</td>\n",
       "      <td>0.203028</td>\n",
       "      <td>0.355283</td>\n",
       "      <td>-0.085652</td>\n",
       "      <td>0.005527</td>\n",
       "      <td>0.042075</td>\n",
       "      <td>0.047779</td>\n",
       "    </tr>\n",
       "    <tr>\n",
       "      <th>chlorides</th>\n",
       "      <td>0.093705</td>\n",
       "      <td>0.061298</td>\n",
       "      <td>0.203823</td>\n",
       "      <td>0.055610</td>\n",
       "      <td>1.000000</td>\n",
       "      <td>0.005562</td>\n",
       "      <td>0.047400</td>\n",
       "      <td>0.200632</td>\n",
       "      <td>-0.265026</td>\n",
       "      <td>0.371260</td>\n",
       "      <td>-0.221141</td>\n",
       "      <td>-0.097308</td>\n",
       "    </tr>\n",
       "    <tr>\n",
       "      <th>free sulfur dioxide</th>\n",
       "      <td>-0.153794</td>\n",
       "      <td>-0.010504</td>\n",
       "      <td>-0.060978</td>\n",
       "      <td>0.187049</td>\n",
       "      <td>0.005562</td>\n",
       "      <td>1.000000</td>\n",
       "      <td>0.667666</td>\n",
       "      <td>-0.021946</td>\n",
       "      <td>0.070377</td>\n",
       "      <td>0.051658</td>\n",
       "      <td>-0.069408</td>\n",
       "      <td>-0.071747</td>\n",
       "    </tr>\n",
       "    <tr>\n",
       "      <th>total sulfur dioxide</th>\n",
       "      <td>-0.113181</td>\n",
       "      <td>0.076470</td>\n",
       "      <td>0.035533</td>\n",
       "      <td>0.203028</td>\n",
       "      <td>0.047400</td>\n",
       "      <td>0.667666</td>\n",
       "      <td>1.000000</td>\n",
       "      <td>0.071269</td>\n",
       "      <td>-0.066495</td>\n",
       "      <td>0.042947</td>\n",
       "      <td>-0.205654</td>\n",
       "      <td>-0.139517</td>\n",
       "    </tr>\n",
       "    <tr>\n",
       "      <th>density</th>\n",
       "      <td>0.668047</td>\n",
       "      <td>0.022026</td>\n",
       "      <td>0.364947</td>\n",
       "      <td>0.355283</td>\n",
       "      <td>0.200632</td>\n",
       "      <td>-0.021946</td>\n",
       "      <td>0.071269</td>\n",
       "      <td>1.000000</td>\n",
       "      <td>-0.341699</td>\n",
       "      <td>0.148506</td>\n",
       "      <td>-0.496180</td>\n",
       "      <td>-0.150460</td>\n",
       "    </tr>\n",
       "    <tr>\n",
       "      <th>pH</th>\n",
       "      <td>-0.682978</td>\n",
       "      <td>0.234937</td>\n",
       "      <td>-0.541904</td>\n",
       "      <td>-0.085652</td>\n",
       "      <td>-0.265026</td>\n",
       "      <td>0.070377</td>\n",
       "      <td>-0.066495</td>\n",
       "      <td>-0.341699</td>\n",
       "      <td>1.000000</td>\n",
       "      <td>-0.196648</td>\n",
       "      <td>0.205633</td>\n",
       "      <td>-0.057283</td>\n",
       "    </tr>\n",
       "    <tr>\n",
       "      <th>sulphates</th>\n",
       "      <td>0.183006</td>\n",
       "      <td>-0.260987</td>\n",
       "      <td>0.312770</td>\n",
       "      <td>0.005527</td>\n",
       "      <td>0.371260</td>\n",
       "      <td>0.051658</td>\n",
       "      <td>0.042947</td>\n",
       "      <td>0.148506</td>\n",
       "      <td>-0.196648</td>\n",
       "      <td>1.000000</td>\n",
       "      <td>0.093595</td>\n",
       "      <td>0.199485</td>\n",
       "    </tr>\n",
       "    <tr>\n",
       "      <th>alcohol</th>\n",
       "      <td>-0.061668</td>\n",
       "      <td>-0.202288</td>\n",
       "      <td>0.109903</td>\n",
       "      <td>0.042075</td>\n",
       "      <td>-0.221141</td>\n",
       "      <td>-0.069408</td>\n",
       "      <td>-0.205654</td>\n",
       "      <td>-0.496180</td>\n",
       "      <td>0.205633</td>\n",
       "      <td>0.093595</td>\n",
       "      <td>1.000000</td>\n",
       "      <td>0.407315</td>\n",
       "    </tr>\n",
       "    <tr>\n",
       "      <th>quality</th>\n",
       "      <td>0.120061</td>\n",
       "      <td>-0.270712</td>\n",
       "      <td>0.214716</td>\n",
       "      <td>0.047779</td>\n",
       "      <td>-0.097308</td>\n",
       "      <td>-0.071747</td>\n",
       "      <td>-0.139517</td>\n",
       "      <td>-0.150460</td>\n",
       "      <td>-0.057283</td>\n",
       "      <td>0.199485</td>\n",
       "      <td>0.407315</td>\n",
       "      <td>1.000000</td>\n",
       "    </tr>\n",
       "  </tbody>\n",
       "</table>\n",
       "</div>"
      ],
      "text/plain": [
       "                      fixed acidity  volatile acidity  citric acid  \\\n",
       "fixed acidity              1.000000         -0.256131     0.671703   \n",
       "volatile acidity          -0.256131          1.000000    -0.552496   \n",
       "citric acid                0.671703         -0.552496     1.000000   \n",
       "residual sugar             0.114777          0.001918     0.143577   \n",
       "chlorides                  0.093705          0.061298     0.203823   \n",
       "free sulfur dioxide       -0.153794         -0.010504    -0.060978   \n",
       "total sulfur dioxide      -0.113181          0.076470     0.035533   \n",
       "density                    0.668047          0.022026     0.364947   \n",
       "pH                        -0.682978          0.234937    -0.541904   \n",
       "sulphates                  0.183006         -0.260987     0.312770   \n",
       "alcohol                   -0.061668         -0.202288     0.109903   \n",
       "quality                    0.120061         -0.270712     0.214716   \n",
       "\n",
       "                      residual sugar  chlorides  free sulfur dioxide  \\\n",
       "fixed acidity               0.114777   0.093705            -0.153794   \n",
       "volatile acidity            0.001918   0.061298            -0.010504   \n",
       "citric acid                 0.143577   0.203823            -0.060978   \n",
       "residual sugar              1.000000   0.055610             0.187049   \n",
       "chlorides                   0.055610   1.000000             0.005562   \n",
       "free sulfur dioxide         0.187049   0.005562             1.000000   \n",
       "total sulfur dioxide        0.203028   0.047400             0.667666   \n",
       "density                     0.355283   0.200632            -0.021946   \n",
       "pH                         -0.085652  -0.265026             0.070377   \n",
       "sulphates                   0.005527   0.371260             0.051658   \n",
       "alcohol                     0.042075  -0.221141            -0.069408   \n",
       "quality                     0.047779  -0.097308            -0.071747   \n",
       "\n",
       "                      total sulfur dioxide   density        pH  sulphates  \\\n",
       "fixed acidity                    -0.113181  0.668047 -0.682978   0.183006   \n",
       "volatile acidity                  0.076470  0.022026  0.234937  -0.260987   \n",
       "citric acid                       0.035533  0.364947 -0.541904   0.312770   \n",
       "residual sugar                    0.203028  0.355283 -0.085652   0.005527   \n",
       "chlorides                         0.047400  0.200632 -0.265026   0.371260   \n",
       "free sulfur dioxide               0.667666 -0.021946  0.070377   0.051658   \n",
       "total sulfur dioxide              1.000000  0.071269 -0.066495   0.042947   \n",
       "density                           0.071269  1.000000 -0.341699   0.148506   \n",
       "pH                               -0.066495 -0.341699  1.000000  -0.196648   \n",
       "sulphates                         0.042947  0.148506 -0.196648   1.000000   \n",
       "alcohol                          -0.205654 -0.496180  0.205633   0.093595   \n",
       "quality                          -0.139517 -0.150460 -0.057283   0.199485   \n",
       "\n",
       "                       alcohol   quality  \n",
       "fixed acidity        -0.061668  0.120061  \n",
       "volatile acidity     -0.202288 -0.270712  \n",
       "citric acid           0.109903  0.214716  \n",
       "residual sugar        0.042075  0.047779  \n",
       "chlorides            -0.221141 -0.097308  \n",
       "free sulfur dioxide  -0.069408 -0.071747  \n",
       "total sulfur dioxide -0.205654 -0.139517  \n",
       "density              -0.496180 -0.150460  \n",
       "pH                    0.205633 -0.057283  \n",
       "sulphates             0.093595  0.199485  \n",
       "alcohol               1.000000  0.407315  \n",
       "quality               0.407315  1.000000  "
      ]
     },
     "execution_count": 39,
     "metadata": {},
     "output_type": "execute_result"
    }
   ],
   "source": [
    "cor=df.corr()\n",
    "cor"
   ]
  },
  {
   "cell_type": "code",
   "execution_count": 40,
   "id": "73f0ec4f",
   "metadata": {},
   "outputs": [
    {
     "data": {
      "text/plain": [
       "<AxesSubplot:>"
      ]
     },
     "execution_count": 40,
     "metadata": {},
     "output_type": "execute_result"
    },
    {
     "data": {
      "image/png": "[encoded data removed]",
      "text/plain": [
       "<Figure size 1080x576 with 2 Axes>"
      ]
     },
     "metadata": {
      "needs_background": "light"
     },
     "output_type": "display_data"
    }
   ],
   "source": [
    "plt.figure(figsize = (15,8))\n",
    "sns.heatmap(cor,annot=True)"
   ]
  },
  {
   "cell_type": "markdown",
   "id": "49007817",
   "metadata": {},
   "source": [
    "## Outliers Removal"
   ]
  },
  {
   "cell_type": "code",
   "execution_count": 41,
   "id": "e83e75d7",
   "metadata": {},
   "outputs": [
    {
     "data": {
      "text/html": [
       "<div>\n",
       "<style scoped>\n",
       "    .dataframe tbody tr th:only-of-type {\n",
       "        vertical-align: middle;\n",
       "    }\n",
       "\n",
       "    .dataframe tbody tr th {\n",
       "        vertical-align: top;\n",
       "    }\n",
       "\n",
       "    .dataframe thead th {\n",
       "        text-align: right;\n",
       "    }\n",
       "</style>\n",
       "<table border=\"1\" class=\"dataframe\">\n",
       "  <thead>\n",
       "    <tr style=\"text-align: right;\">\n",
       "      <th></th>\n",
       "      <th>fixed acidity</th>\n",
       "      <th>volatile acidity</th>\n",
       "      <th>citric acid</th>\n",
       "      <th>residual sugar</th>\n",
       "      <th>chlorides</th>\n",
       "      <th>free sulfur dioxide</th>\n",
       "      <th>total sulfur dioxide</th>\n",
       "      <th>density</th>\n",
       "      <th>pH</th>\n",
       "      <th>sulphates</th>\n",
       "      <th>alcohol</th>\n",
       "      <th>quality</th>\n",
       "    </tr>\n",
       "  </thead>\n",
       "  <tbody>\n",
       "    <tr>\n",
       "      <th>0</th>\n",
       "      <td>7.4</td>\n",
       "      <td>0.70</td>\n",
       "      <td>0.00</td>\n",
       "      <td>1.9</td>\n",
       "      <td>0.076</td>\n",
       "      <td>11.0</td>\n",
       "      <td>34.0</td>\n",
       "      <td>0.9978</td>\n",
       "      <td>3.51</td>\n",
       "      <td>0.56</td>\n",
       "      <td>9.4</td>\n",
       "      <td>0</td>\n",
       "    </tr>\n",
       "    <tr>\n",
       "      <th>1</th>\n",
       "      <td>7.8</td>\n",
       "      <td>0.88</td>\n",
       "      <td>0.00</td>\n",
       "      <td>2.6</td>\n",
       "      <td>0.098</td>\n",
       "      <td>25.0</td>\n",
       "      <td>67.0</td>\n",
       "      <td>0.9968</td>\n",
       "      <td>3.20</td>\n",
       "      <td>0.68</td>\n",
       "      <td>9.8</td>\n",
       "      <td>0</td>\n",
       "    </tr>\n",
       "    <tr>\n",
       "      <th>2</th>\n",
       "      <td>7.8</td>\n",
       "      <td>0.76</td>\n",
       "      <td>0.04</td>\n",
       "      <td>2.3</td>\n",
       "      <td>0.092</td>\n",
       "      <td>15.0</td>\n",
       "      <td>54.0</td>\n",
       "      <td>0.9970</td>\n",
       "      <td>3.26</td>\n",
       "      <td>0.65</td>\n",
       "      <td>9.8</td>\n",
       "      <td>0</td>\n",
       "    </tr>\n",
       "    <tr>\n",
       "      <th>3</th>\n",
       "      <td>11.2</td>\n",
       "      <td>0.28</td>\n",
       "      <td>0.56</td>\n",
       "      <td>1.9</td>\n",
       "      <td>0.075</td>\n",
       "      <td>17.0</td>\n",
       "      <td>60.0</td>\n",
       "      <td>0.9980</td>\n",
       "      <td>3.16</td>\n",
       "      <td>0.58</td>\n",
       "      <td>9.8</td>\n",
       "      <td>0</td>\n",
       "    </tr>\n",
       "    <tr>\n",
       "      <th>4</th>\n",
       "      <td>7.4</td>\n",
       "      <td>0.70</td>\n",
       "      <td>0.00</td>\n",
       "      <td>1.9</td>\n",
       "      <td>0.076</td>\n",
       "      <td>11.0</td>\n",
       "      <td>34.0</td>\n",
       "      <td>0.9978</td>\n",
       "      <td>3.51</td>\n",
       "      <td>0.56</td>\n",
       "      <td>9.4</td>\n",
       "      <td>0</td>\n",
       "    </tr>\n",
       "  </tbody>\n",
       "</table>\n",
       "</div>"
      ],
      "text/plain": [
       "   fixed acidity  volatile acidity  citric acid  residual sugar  chlorides  \\\n",
       "0            7.4              0.70         0.00             1.9      0.076   \n",
       "1            7.8              0.88         0.00             2.6      0.098   \n",
       "2            7.8              0.76         0.04             2.3      0.092   \n",
       "3           11.2              0.28         0.56             1.9      0.075   \n",
       "4            7.4              0.70         0.00             1.9      0.076   \n",
       "\n",
       "   free sulfur dioxide  total sulfur dioxide  density    pH  sulphates  \\\n",
       "0                 11.0                  34.0   0.9978  3.51       0.56   \n",
       "1                 25.0                  67.0   0.9968  3.20       0.68   \n",
       "2                 15.0                  54.0   0.9970  3.26       0.65   \n",
       "3                 17.0                  60.0   0.9980  3.16       0.58   \n",
       "4                 11.0                  34.0   0.9978  3.51       0.56   \n",
       "\n",
       "   alcohol  quality  \n",
       "0      9.4        0  \n",
       "1      9.8        0  \n",
       "2      9.8        0  \n",
       "3      9.8        0  \n",
       "4      9.4        0  "
      ]
     },
     "execution_count": 41,
     "metadata": {},
     "output_type": "execute_result"
    }
   ],
   "source": [
    "from scipy.stats import zscore\n",
    "z=np.abs(zscore(df))\n",
    "n_df=df[(z<3).all(axis=1)]\n",
    "n_df.head()"
   ]
  },
  {
   "cell_type": "code",
   "execution_count": 42,
   "id": "6ddd470e",
   "metadata": {},
   "outputs": [
    {
     "data": {
      "text/plain": [
       "(1458, 12)"
      ]
     },
     "execution_count": 42,
     "metadata": {},
     "output_type": "execute_result"
    }
   ],
   "source": [
    "n_df.shape"
   ]
  },
  {
   "cell_type": "code",
   "execution_count": 43,
   "id": "9bc8e29e",
   "metadata": {},
   "outputs": [
    {
     "data": {
      "text/plain": [
       "(1599, 12)"
      ]
     },
     "execution_count": 43,
     "metadata": {},
     "output_type": "execute_result"
    }
   ],
   "source": [
    "df.shape"
   ]
  },
  {
   "cell_type": "code",
   "execution_count": 44,
   "id": "132af7a3",
   "metadata": {},
   "outputs": [
    {
     "data": {
      "text/plain": [
       "8.818011257035648"
      ]
     },
     "execution_count": 44,
     "metadata": {},
     "output_type": "execute_result"
    }
   ],
   "source": [
    "data_loss=(1599-1458)/1599\n",
    "data_loss*100"
   ]
  },
  {
   "cell_type": "markdown",
   "id": "d292309a",
   "metadata": {},
   "source": [
    "## Skewness"
   ]
  },
  {
   "cell_type": "code",
   "execution_count": 45,
   "id": "03dc3a25",
   "metadata": {},
   "outputs": [
    {
     "data": {
      "text/plain": [
       "fixed acidity           0.820879\n",
       "volatile acidity        0.392097\n",
       "citric acid             0.292600\n",
       "residual sugar          2.450707\n",
       "chlorides               2.307274\n",
       "free sulfur dioxide     0.869727\n",
       "total sulfur dioxide    1.185230\n",
       "density                 0.055543\n",
       "pH                      0.113039\n",
       "sulphates               0.893297\n",
       "alcohol                 0.757396\n",
       "quality                 2.103030\n",
       "dtype: float64"
      ]
     },
     "execution_count": 45,
     "metadata": {},
     "output_type": "execute_result"
    }
   ],
   "source": [
    "n_df.skew()"
   ]
  },
  {
   "cell_type": "code",
   "execution_count": 46,
   "id": "6a17f64b",
   "metadata": {},
   "outputs": [],
   "source": [
    "from scipy.stats import boxcox\n",
    "t=['fixed acidity','residual sugar','chlorides','free sulfur dioxide','total sulfur dioxide','sulphates','alcohol']\n",
    "for i in t:\n",
    "    n_df[i]=boxcox(n_df[i],0)"
   ]
  },
  {
   "cell_type": "code",
   "execution_count": 47,
   "id": "028bdf4f",
   "metadata": {},
   "outputs": [
    {
     "data": {
      "text/plain": [
       "fixed acidity           0.377100\n",
       "volatile acidity        0.392097\n",
       "citric acid             0.292600\n",
       "residual sugar          1.229070\n",
       "chlorides               0.528828\n",
       "free sulfur dioxide    -0.300264\n",
       "total sulfur dioxide   -0.095735\n",
       "density                 0.055543\n",
       "pH                      0.113039\n",
       "sulphates               0.345344\n",
       "alcohol                 0.588835\n",
       "quality                 2.103030\n",
       "dtype: float64"
      ]
     },
     "execution_count": 47,
     "metadata": {},
     "output_type": "execute_result"
    }
   ],
   "source": [
    "n_df.skew()"
   ]
  },
  {
   "cell_type": "code",
   "execution_count": 48,
   "id": "786fc095",
   "metadata": {},
   "outputs": [],
   "source": [
    "s=['residual sugar','chlorides','alcohol']\n",
    "from sklearn.preprocessing import PowerTransformer\n",
    "pt = PowerTransformer(method = 'yeo-johnson')\n",
    "for i in s:\n",
    "    n_df[i] = pt.fit_transform(np.array(n_df[i]).reshape(-1,1))[:,0]"
   ]
  },
  {
   "cell_type": "code",
   "execution_count": 49,
   "id": "67da75f6",
   "metadata": {},
   "outputs": [
    {
     "data": {
      "text/plain": [
       "fixed acidity           0.377100\n",
       "volatile acidity        0.392097\n",
       "citric acid             0.292600\n",
       "residual sugar         -0.033783\n",
       "chlorides              -0.103325\n",
       "free sulfur dioxide    -0.300264\n",
       "total sulfur dioxide   -0.095735\n",
       "density                 0.055543\n",
       "pH                      0.113039\n",
       "sulphates               0.345344\n",
       "alcohol                 0.096213\n",
       "quality                 2.103030\n",
       "dtype: float64"
      ]
     },
     "execution_count": 49,
     "metadata": {},
     "output_type": "execute_result"
    }
   ],
   "source": [
    "n_df.skew()"
   ]
  },
  {
   "cell_type": "code",
   "execution_count": 50,
   "id": "0741a6fa",
   "metadata": {},
   "outputs": [],
   "source": [
    "x=n_df.drop('quality',axis=1)\n",
    "y=n_df['quality']"
   ]
  },
  {
   "cell_type": "code",
   "execution_count": 51,
   "id": "b5d9d3ac",
   "metadata": {},
   "outputs": [
    {
     "data": {
      "text/plain": [
       "0    1257\n",
       "1     201\n",
       "Name: quality, dtype: int64"
      ]
     },
     "execution_count": 51,
     "metadata": {},
     "output_type": "execute_result"
    }
   ],
   "source": [
    "n_df['quality'].value_counts()"
   ]
  },
  {
   "cell_type": "code",
   "execution_count": 52,
   "id": "3801cfd9",
   "metadata": {},
   "outputs": [],
   "source": [
    "## Here, There is a class imbalance"
   ]
  },
  {
   "cell_type": "markdown",
   "id": "169d9f0c",
   "metadata": {},
   "source": [
    "## Sampling"
   ]
  },
  {
   "cell_type": "code",
   "execution_count": 53,
   "id": "d3f3990d",
   "metadata": {},
   "outputs": [],
   "source": [
    "#! pip install imbalanced-learn"
   ]
  },
  {
   "cell_type": "code",
   "execution_count": 54,
   "id": "a7d2c2c0",
   "metadata": {},
   "outputs": [],
   "source": [
    "from imblearn.over_sampling import SMOTE\n",
    "smo=SMOTE()\n",
    "x,y=smo.fit_resample(x,y)"
   ]
  },
  {
   "cell_type": "code",
   "execution_count": 55,
   "id": "a1e2d573",
   "metadata": {},
   "outputs": [
    {
     "data": {
      "text/plain": [
       "0    1257\n",
       "1    1257\n",
       "Name: quality, dtype: int64"
      ]
     },
     "execution_count": 55,
     "metadata": {},
     "output_type": "execute_result"
    }
   ],
   "source": [
    "y.value_counts()"
   ]
  },
  {
   "cell_type": "markdown",
   "id": "25924648",
   "metadata": {},
   "source": [
    "## Scalling"
   ]
  },
  {
   "cell_type": "code",
   "execution_count": 56,
   "id": "497e9f84",
   "metadata": {},
   "outputs": [
    {
     "data": {
      "text/html": [
       "<div>\n",
       "<style scoped>\n",
       "    .dataframe tbody tr th:only-of-type {\n",
       "        vertical-align: middle;\n",
       "    }\n",
       "\n",
       "    .dataframe tbody tr th {\n",
       "        vertical-align: top;\n",
       "    }\n",
       "\n",
       "    .dataframe thead th {\n",
       "        text-align: right;\n",
       "    }\n",
       "</style>\n",
       "<table border=\"1\" class=\"dataframe\">\n",
       "  <thead>\n",
       "    <tr style=\"text-align: right;\">\n",
       "      <th></th>\n",
       "      <th>fixed acidity</th>\n",
       "      <th>volatile acidity</th>\n",
       "      <th>citric acid</th>\n",
       "      <th>residual sugar</th>\n",
       "      <th>chlorides</th>\n",
       "      <th>free sulfur dioxide</th>\n",
       "      <th>total sulfur dioxide</th>\n",
       "      <th>density</th>\n",
       "      <th>pH</th>\n",
       "      <th>sulphates</th>\n",
       "      <th>alcohol</th>\n",
       "    </tr>\n",
       "  </thead>\n",
       "  <tbody>\n",
       "    <tr>\n",
       "      <th>0</th>\n",
       "      <td>-0.649832</td>\n",
       "      <td>1.399683</td>\n",
       "      <td>-1.641582</td>\n",
       "      <td>-0.644361</td>\n",
       "      <td>-0.007324</td>\n",
       "      <td>-0.095640</td>\n",
       "      <td>0.159799</td>\n",
       "      <td>0.758440</td>\n",
       "      <td>1.558701</td>\n",
       "      <td>-0.969918</td>\n",
       "      <td>-1.538419</td>\n",
       "    </tr>\n",
       "    <tr>\n",
       "      <th>1</th>\n",
       "      <td>-0.373084</td>\n",
       "      <td>2.507307</td>\n",
       "      <td>-1.641582</td>\n",
       "      <td>0.502029</td>\n",
       "      <td>1.052248</td>\n",
       "      <td>1.180454</td>\n",
       "      <td>1.194699</td>\n",
       "      <td>0.194019</td>\n",
       "      <td>-0.762630</td>\n",
       "      <td>0.054022</td>\n",
       "      <td>-0.947481</td>\n",
       "    </tr>\n",
       "    <tr>\n",
       "      <th>2</th>\n",
       "      <td>-0.373084</td>\n",
       "      <td>1.768891</td>\n",
       "      <td>-1.432541</td>\n",
       "      <td>0.103579</td>\n",
       "      <td>0.800188</td>\n",
       "      <td>0.386450</td>\n",
       "      <td>0.865603</td>\n",
       "      <td>0.306903</td>\n",
       "      <td>-0.313340</td>\n",
       "      <td>-0.183934</td>\n",
       "      <td>-0.947481</td>\n",
       "    </tr>\n",
       "    <tr>\n",
       "      <th>3</th>\n",
       "      <td>1.528845</td>\n",
       "      <td>-1.184772</td>\n",
       "      <td>1.284997</td>\n",
       "      <td>-0.644361</td>\n",
       "      <td>-0.065864</td>\n",
       "      <td>0.580998</td>\n",
       "      <td>1.026346</td>\n",
       "      <td>0.871324</td>\n",
       "      <td>-1.062156</td>\n",
       "      <td>-0.784854</td>\n",
       "      <td>-0.947481</td>\n",
       "    </tr>\n",
       "    <tr>\n",
       "      <th>4</th>\n",
       "      <td>-0.649832</td>\n",
       "      <td>1.399683</td>\n",
       "      <td>-1.641582</td>\n",
       "      <td>-0.644361</td>\n",
       "      <td>-0.007324</td>\n",
       "      <td>-0.095640</td>\n",
       "      <td>0.159799</td>\n",
       "      <td>0.758440</td>\n",
       "      <td>1.558701</td>\n",
       "      <td>-0.969918</td>\n",
       "      <td>-1.538419</td>\n",
       "    </tr>\n",
       "  </tbody>\n",
       "</table>\n",
       "</div>"
      ],
      "text/plain": [
       "   fixed acidity  volatile acidity  citric acid  residual sugar  chlorides  \\\n",
       "0      -0.649832          1.399683    -1.641582       -0.644361  -0.007324   \n",
       "1      -0.373084          2.507307    -1.641582        0.502029   1.052248   \n",
       "2      -0.373084          1.768891    -1.432541        0.103579   0.800188   \n",
       "3       1.528845         -1.184772     1.284997       -0.644361  -0.065864   \n",
       "4      -0.649832          1.399683    -1.641582       -0.644361  -0.007324   \n",
       "\n",
       "   free sulfur dioxide  total sulfur dioxide   density        pH  sulphates  \\\n",
       "0            -0.095640              0.159799  0.758440  1.558701  -0.969918   \n",
       "1             1.180454              1.194699  0.194019 -0.762630   0.054022   \n",
       "2             0.386450              0.865603  0.306903 -0.313340  -0.183934   \n",
       "3             0.580998              1.026346  0.871324 -1.062156  -0.784854   \n",
       "4            -0.095640              0.159799  0.758440  1.558701  -0.969918   \n",
       "\n",
       "    alcohol  \n",
       "0 -1.538419  \n",
       "1 -0.947481  \n",
       "2 -0.947481  \n",
       "3 -0.947481  \n",
       "4 -1.538419  "
      ]
     },
     "execution_count": 56,
     "metadata": {},
     "output_type": "execute_result"
    }
   ],
   "source": [
    "from sklearn.preprocessing import StandardScaler\n",
    "scaler=StandardScaler()\n",
    "x=pd.DataFrame(scaler.fit_transform(x),columns=x.columns)\n",
    "x.head()"
   ]
  },
  {
   "cell_type": "code",
   "execution_count": 57,
   "id": "7779e1b9",
   "metadata": {},
   "outputs": [
    {
     "data": {
      "text/html": [
       "<div>\n",
       "<style scoped>\n",
       "    .dataframe tbody tr th:only-of-type {\n",
       "        vertical-align: middle;\n",
       "    }\n",
       "\n",
       "    .dataframe tbody tr th {\n",
       "        vertical-align: top;\n",
       "    }\n",
       "\n",
       "    .dataframe thead th {\n",
       "        text-align: right;\n",
       "    }\n",
       "</style>\n",
       "<table border=\"1\" class=\"dataframe\">\n",
       "  <thead>\n",
       "    <tr style=\"text-align: right;\">\n",
       "      <th></th>\n",
       "      <th>vif</th>\n",
       "      <th>col</th>\n",
       "    </tr>\n",
       "  </thead>\n",
       "  <tbody>\n",
       "    <tr>\n",
       "      <th>0</th>\n",
       "      <td>8.820759</td>\n",
       "      <td>fixed acidity</td>\n",
       "    </tr>\n",
       "    <tr>\n",
       "      <th>1</th>\n",
       "      <td>2.141057</td>\n",
       "      <td>volatile acidity</td>\n",
       "    </tr>\n",
       "    <tr>\n",
       "      <th>2</th>\n",
       "      <td>3.702691</td>\n",
       "      <td>citric acid</td>\n",
       "    </tr>\n",
       "    <tr>\n",
       "      <th>3</th>\n",
       "      <td>1.893798</td>\n",
       "      <td>residual sugar</td>\n",
       "    </tr>\n",
       "    <tr>\n",
       "      <th>4</th>\n",
       "      <td>1.408993</td>\n",
       "      <td>chlorides</td>\n",
       "    </tr>\n",
       "    <tr>\n",
       "      <th>5</th>\n",
       "      <td>3.136982</td>\n",
       "      <td>free sulfur dioxide</td>\n",
       "    </tr>\n",
       "    <tr>\n",
       "      <th>6</th>\n",
       "      <td>3.583178</td>\n",
       "      <td>total sulfur dioxide</td>\n",
       "    </tr>\n",
       "    <tr>\n",
       "      <th>7</th>\n",
       "      <td>7.221016</td>\n",
       "      <td>density</td>\n",
       "    </tr>\n",
       "    <tr>\n",
       "      <th>8</th>\n",
       "      <td>3.545852</td>\n",
       "      <td>pH</td>\n",
       "    </tr>\n",
       "    <tr>\n",
       "      <th>9</th>\n",
       "      <td>1.541946</td>\n",
       "      <td>sulphates</td>\n",
       "    </tr>\n",
       "    <tr>\n",
       "      <th>10</th>\n",
       "      <td>3.830657</td>\n",
       "      <td>alcohol</td>\n",
       "    </tr>\n",
       "  </tbody>\n",
       "</table>\n",
       "</div>"
      ],
      "text/plain": [
       "         vif                   col\n",
       "0   8.820759         fixed acidity\n",
       "1   2.141057      volatile acidity\n",
       "2   3.702691           citric acid\n",
       "3   1.893798        residual sugar\n",
       "4   1.408993             chlorides\n",
       "5   3.136982   free sulfur dioxide\n",
       "6   3.583178  total sulfur dioxide\n",
       "7   7.221016               density\n",
       "8   3.545852                    pH\n",
       "9   1.541946             sulphates\n",
       "10  3.830657               alcohol"
      ]
     },
     "execution_count": 57,
     "metadata": {},
     "output_type": "execute_result"
    }
   ],
   "source": [
    "# VIF\n",
    "from statsmodels.stats.outliers_influence import variance_inflation_factor\n",
    "vif=pd.DataFrame()\n",
    "vif['vif']=[variance_inflation_factor(x.values,i) for i in range(len(x.columns))]\n",
    "vif['col']=x.columns\n",
    "vif"
   ]
  },
  {
   "cell_type": "code",
   "execution_count": 58,
   "id": "8e6bdbfb",
   "metadata": {},
   "outputs": [
    {
     "data": {
      "text/plain": [
       "<AxesSubplot:>"
      ]
     },
     "execution_count": 58,
     "metadata": {},
     "output_type": "execute_result"
    },
    {
     "data": {
      "image/png": "[encoded data removed]",
      "text/plain": [
       "<Figure size 1080x576 with 2 Axes>"
      ]
     },
     "metadata": {
      "needs_background": "light"
     },
     "output_type": "display_data"
    }
   ],
   "source": [
    "corr1=n_df.corr()\n",
    "plt.figure(figsize = (15,8))\n",
    "sns.heatmap(corr1,annot=True)"
   ]
  },
  {
   "cell_type": "code",
   "execution_count": 59,
   "id": "76afe224",
   "metadata": {},
   "outputs": [
    {
     "data": {
      "text/html": [
       "<div>\n",
       "<style scoped>\n",
       "    .dataframe tbody tr th:only-of-type {\n",
       "        vertical-align: middle;\n",
       "    }\n",
       "\n",
       "    .dataframe tbody tr th {\n",
       "        vertical-align: top;\n",
       "    }\n",
       "\n",
       "    .dataframe thead th {\n",
       "        text-align: right;\n",
       "    }\n",
       "</style>\n",
       "<table border=\"1\" class=\"dataframe\">\n",
       "  <thead>\n",
       "    <tr style=\"text-align: right;\">\n",
       "      <th></th>\n",
       "      <th>fixed acidity</th>\n",
       "      <th>volatile acidity</th>\n",
       "      <th>citric acid</th>\n",
       "      <th>residual sugar</th>\n",
       "      <th>chlorides</th>\n",
       "      <th>free sulfur dioxide</th>\n",
       "      <th>total sulfur dioxide</th>\n",
       "      <th>pH</th>\n",
       "      <th>sulphates</th>\n",
       "      <th>alcohol</th>\n",
       "    </tr>\n",
       "  </thead>\n",
       "  <tbody>\n",
       "    <tr>\n",
       "      <th>0</th>\n",
       "      <td>-0.649832</td>\n",
       "      <td>1.399683</td>\n",
       "      <td>-1.641582</td>\n",
       "      <td>-0.644361</td>\n",
       "      <td>-0.007324</td>\n",
       "      <td>-0.095640</td>\n",
       "      <td>0.159799</td>\n",
       "      <td>1.558701</td>\n",
       "      <td>-0.969918</td>\n",
       "      <td>-1.538419</td>\n",
       "    </tr>\n",
       "    <tr>\n",
       "      <th>1</th>\n",
       "      <td>-0.373084</td>\n",
       "      <td>2.507307</td>\n",
       "      <td>-1.641582</td>\n",
       "      <td>0.502029</td>\n",
       "      <td>1.052248</td>\n",
       "      <td>1.180454</td>\n",
       "      <td>1.194699</td>\n",
       "      <td>-0.762630</td>\n",
       "      <td>0.054022</td>\n",
       "      <td>-0.947481</td>\n",
       "    </tr>\n",
       "    <tr>\n",
       "      <th>2</th>\n",
       "      <td>-0.373084</td>\n",
       "      <td>1.768891</td>\n",
       "      <td>-1.432541</td>\n",
       "      <td>0.103579</td>\n",
       "      <td>0.800188</td>\n",
       "      <td>0.386450</td>\n",
       "      <td>0.865603</td>\n",
       "      <td>-0.313340</td>\n",
       "      <td>-0.183934</td>\n",
       "      <td>-0.947481</td>\n",
       "    </tr>\n",
       "    <tr>\n",
       "      <th>3</th>\n",
       "      <td>1.528845</td>\n",
       "      <td>-1.184772</td>\n",
       "      <td>1.284997</td>\n",
       "      <td>-0.644361</td>\n",
       "      <td>-0.065864</td>\n",
       "      <td>0.580998</td>\n",
       "      <td>1.026346</td>\n",
       "      <td>-1.062156</td>\n",
       "      <td>-0.784854</td>\n",
       "      <td>-0.947481</td>\n",
       "    </tr>\n",
       "    <tr>\n",
       "      <th>4</th>\n",
       "      <td>-0.649832</td>\n",
       "      <td>1.399683</td>\n",
       "      <td>-1.641582</td>\n",
       "      <td>-0.644361</td>\n",
       "      <td>-0.007324</td>\n",
       "      <td>-0.095640</td>\n",
       "      <td>0.159799</td>\n",
       "      <td>1.558701</td>\n",
       "      <td>-0.969918</td>\n",
       "      <td>-1.538419</td>\n",
       "    </tr>\n",
       "    <tr>\n",
       "      <th>...</th>\n",
       "      <td>...</td>\n",
       "      <td>...</td>\n",
       "      <td>...</td>\n",
       "      <td>...</td>\n",
       "      <td>...</td>\n",
       "      <td>...</td>\n",
       "      <td>...</td>\n",
       "      <td>...</td>\n",
       "      <td>...</td>\n",
       "      <td>...</td>\n",
       "    </tr>\n",
       "    <tr>\n",
       "      <th>2509</th>\n",
       "      <td>0.854670</td>\n",
       "      <td>-0.262895</td>\n",
       "      <td>1.043515</td>\n",
       "      <td>1.743805</td>\n",
       "      <td>0.741849</td>\n",
       "      <td>-0.133365</td>\n",
       "      <td>-0.110488</td>\n",
       "      <td>0.082919</td>\n",
       "      <td>1.697425</td>\n",
       "      <td>0.715588</td>\n",
       "    </tr>\n",
       "    <tr>\n",
       "      <th>2510</th>\n",
       "      <td>1.058953</td>\n",
       "      <td>-0.462727</td>\n",
       "      <td>0.597941</td>\n",
       "      <td>-0.525094</td>\n",
       "      <td>-0.259242</td>\n",
       "      <td>-0.849293</td>\n",
       "      <td>-0.633879</td>\n",
       "      <td>-1.036223</td>\n",
       "      <td>1.132221</td>\n",
       "      <td>0.347149</td>\n",
       "    </tr>\n",
       "    <tr>\n",
       "      <th>2511</th>\n",
       "      <td>0.968761</td>\n",
       "      <td>-0.062142</td>\n",
       "      <td>1.404812</td>\n",
       "      <td>0.359932</td>\n",
       "      <td>1.407175</td>\n",
       "      <td>-0.980810</td>\n",
       "      <td>-1.065244</td>\n",
       "      <td>-1.194566</td>\n",
       "      <td>0.122070</td>\n",
       "      <td>0.887582</td>\n",
       "    </tr>\n",
       "    <tr>\n",
       "      <th>2512</th>\n",
       "      <td>-0.874886</td>\n",
       "      <td>-0.701460</td>\n",
       "      <td>0.569081</td>\n",
       "      <td>-0.425903</td>\n",
       "      <td>-0.380775</td>\n",
       "      <td>0.096412</td>\n",
       "      <td>-0.371597</td>\n",
       "      <td>0.638302</td>\n",
       "      <td>1.310620</td>\n",
       "      <td>0.599579</td>\n",
       "    </tr>\n",
       "    <tr>\n",
       "      <th>2513</th>\n",
       "      <td>0.778318</td>\n",
       "      <td>-0.416385</td>\n",
       "      <td>0.981856</td>\n",
       "      <td>2.374885</td>\n",
       "      <td>0.990710</td>\n",
       "      <td>-0.989449</td>\n",
       "      <td>-0.733034</td>\n",
       "      <td>-0.192868</td>\n",
       "      <td>0.981229</td>\n",
       "      <td>0.804254</td>\n",
       "    </tr>\n",
       "  </tbody>\n",
       "</table>\n",
       "<p>2514 rows × 10 columns</p>\n",
       "</div>"
      ],
      "text/plain": [
       "      fixed acidity  volatile acidity  citric acid  residual sugar  chlorides  \\\n",
       "0         -0.649832          1.399683    -1.641582       -0.644361  -0.007324   \n",
       "1         -0.373084          2.507307    -1.641582        0.502029   1.052248   \n",
       "2         -0.373084          1.768891    -1.432541        0.103579   0.800188   \n",
       "3          1.528845         -1.184772     1.284997       -0.644361  -0.065864   \n",
       "4         -0.649832          1.399683    -1.641582       -0.644361  -0.007324   \n",
       "...             ...               ...          ...             ...        ...   \n",
       "2509       0.854670         -0.262895     1.043515        1.743805   0.741849   \n",
       "2510       1.058953         -0.462727     0.597941       -0.525094  -0.259242   \n",
       "2511       0.968761         -0.062142     1.404812        0.359932   1.407175   \n",
       "2512      -0.874886         -0.701460     0.569081       -0.425903  -0.380775   \n",
       "2513       0.778318         -0.416385     0.981856        2.374885   0.990710   \n",
       "\n",
       "      free sulfur dioxide  total sulfur dioxide        pH  sulphates   alcohol  \n",
       "0               -0.095640              0.159799  1.558701  -0.969918 -1.538419  \n",
       "1                1.180454              1.194699 -0.762630   0.054022 -0.947481  \n",
       "2                0.386450              0.865603 -0.313340  -0.183934 -0.947481  \n",
       "3                0.580998              1.026346 -1.062156  -0.784854 -0.947481  \n",
       "4               -0.095640              0.159799  1.558701  -0.969918 -1.538419  \n",
       "...                   ...                   ...       ...        ...       ...  \n",
       "2509            -0.133365             -0.110488  0.082919   1.697425  0.715588  \n",
       "2510            -0.849293             -0.633879 -1.036223   1.132221  0.347149  \n",
       "2511            -0.980810             -1.065244 -1.194566   0.122070  0.887582  \n",
       "2512             0.096412             -0.371597  0.638302   1.310620  0.599579  \n",
       "2513            -0.989449             -0.733034 -0.192868   0.981229  0.804254  \n",
       "\n",
       "[2514 rows x 10 columns]"
      ]
     },
     "execution_count": 59,
     "metadata": {},
     "output_type": "execute_result"
    }
   ],
   "source": [
    "x.drop(['density'],axis=1,inplace=True)\n",
    "x"
   ]
  },
  {
   "cell_type": "markdown",
   "id": "6180d1e5",
   "metadata": {},
   "source": [
    "## Choosing Random State Value"
   ]
  },
  {
   "cell_type": "code",
   "execution_count": 60,
   "id": "38edd0a9",
   "metadata": {},
   "outputs": [
    {
     "name": "stdout",
     "output_type": "stream",
     "text": [
      "max accuracy= 0.937748344370861 ran state= 196\n"
     ]
    }
   ],
   "source": [
    "from sklearn.model_selection import train_test_split\n",
    "from sklearn.tree import DecisionTreeClassifier\n",
    "from sklearn.metrics import accuracy_score,classification_report\n",
    "maxac=0\n",
    "maxran=0\n",
    "for i in range(1,200):\n",
    "    x_train,x_test,y_train,y_test=train_test_split(x,y,test_size=0.3,random_state=i)\n",
    "    sam=DecisionTreeClassifier()\n",
    "    sam.fit(x_train,y_train)\n",
    "    pred=sam.predict(x_test)\n",
    "    acc=accuracy_score(y_test,pred)\n",
    "    if acc>maxac:\n",
    "        maxac=acc\n",
    "        maxran=i\n",
    "print('max accuracy=',maxac,'ran state=',maxran)"
   ]
  },
  {
   "cell_type": "code",
   "execution_count": 61,
   "id": "c1ad4fdb",
   "metadata": {},
   "outputs": [],
   "source": [
    "x_train,x_test,y_train,y_test=train_test_split(x,y,test_size=0.3,random_state=196)"
   ]
  },
  {
   "cell_type": "markdown",
   "id": "0c95c964",
   "metadata": {},
   "source": [
    "## Model Selection"
   ]
  },
  {
   "cell_type": "code",
   "execution_count": 62,
   "id": "3bbfa288",
   "metadata": {},
   "outputs": [],
   "source": [
    "from sklearn.model_selection import GridSearchCV\n",
    "from sklearn.model_selection import cross_val_score"
   ]
  },
  {
   "cell_type": "code",
   "execution_count": 63,
   "id": "190ede08",
   "metadata": {},
   "outputs": [],
   "source": [
    "from sklearn.ensemble import RandomForestClassifier\n",
    "from sklearn.svm import SVC"
   ]
  },
  {
   "cell_type": "markdown",
   "id": "dd661558",
   "metadata": {},
   "source": [
    "## Decision Tree Classifier"
   ]
  },
  {
   "cell_type": "code",
   "execution_count": 64,
   "id": "2cd926cc",
   "metadata": {},
   "outputs": [
    {
     "name": "stdout",
     "output_type": "stream",
     "text": [
      "              precision    recall  f1-score   support\n",
      "\n",
      "           0       0.94      0.89      0.91       379\n",
      "           1       0.90      0.94      0.92       376\n",
      "\n",
      "    accuracy                           0.92       755\n",
      "   macro avg       0.92      0.92      0.92       755\n",
      "weighted avg       0.92      0.92      0.92       755\n",
      "\n"
     ]
    }
   ],
   "source": [
    "dtc=DecisionTreeClassifier()\n",
    "dtc.fit(x_train,y_train)\n",
    "pred=dtc.predict(x_test)\n",
    "dtc_clas=classification_report(y_test,pred)\n",
    "print(dtc_clas)"
   ]
  },
  {
   "cell_type": "code",
   "execution_count": 65,
   "id": "ac7553e7",
   "metadata": {},
   "outputs": [
    {
     "data": {
      "image/png": "[encoded data removed]",
      "text/plain": [
       "<Figure size 432x288 with 1 Axes>"
      ]
     },
     "metadata": {
      "needs_background": "light"
     },
     "output_type": "display_data"
    }
   ],
   "source": [
    "from sklearn.metrics import roc_curve,roc_auc_score\n",
    "fpr, tpr, thresholds =roc_curve(y_test, pred)\n",
    "area_under_curve=roc_auc_score(y_test, pred)\n",
    "# Print ROC curve\n",
    "plt.plot(fpr,tpr,label='ROC')\n",
    "plt.plot([0,1],[0,1],color='darkblue',linestyle='--',label='ROC Curve(area=%0.3f)'%area_under_curve)\n",
    "plt.legend()\n",
    "plt.show()"
   ]
  },
  {
   "cell_type": "code",
   "execution_count": 66,
   "id": "c5c71e45",
   "metadata": {},
   "outputs": [
    {
     "data": {
      "text/plain": [
       "0.9166444450682086"
      ]
     },
     "execution_count": 66,
     "metadata": {},
     "output_type": "execute_result"
    }
   ],
   "source": [
    "area_under_curve"
   ]
  },
  {
   "cell_type": "markdown",
   "id": "a450e9ae",
   "metadata": {},
   "source": [
    "## Random Forest Classifier"
   ]
  },
  {
   "cell_type": "code",
   "execution_count": 67,
   "id": "9128bd56",
   "metadata": {},
   "outputs": [
    {
     "name": "stdout",
     "output_type": "stream",
     "text": [
      "              precision    recall  f1-score   support\n",
      "\n",
      "           0       0.96      0.93      0.94       379\n",
      "           1       0.93      0.96      0.94       376\n",
      "\n",
      "    accuracy                           0.94       755\n",
      "   macro avg       0.94      0.94      0.94       755\n",
      "weighted avg       0.94      0.94      0.94       755\n",
      "\n"
     ]
    }
   ],
   "source": [
    "rfc=RandomForestClassifier()\n",
    "rfc.fit(x_train,y_train)\n",
    "pred=rfc.predict(x_test)\n",
    "rfc_clas=classification_report(y_test,pred)\n",
    "print(rfc_clas)"
   ]
  },
  {
   "cell_type": "code",
   "execution_count": 68,
   "id": "02e9dce1",
   "metadata": {},
   "outputs": [
    {
     "data": {
      "image/png": "[encoded data removed]",
      "text/plain": [
       "<Figure size 432x288 with 1 Axes>"
      ]
     },
     "metadata": {
      "needs_background": "light"
     },
     "output_type": "display_data"
    }
   ],
   "source": [
    "fpr, tpr, thresholds =roc_curve(y_test, pred)\n",
    "area_under_curve=roc_auc_score(y_test, pred)\n",
    "# Print ROC curve\n",
    "plt.plot(fpr,tpr,label='ROC')\n",
    "plt.plot([0,1],[0,1],color='darkblue',linestyle='--',label='ROC Curve(area=%0.3f)'%area_under_curve)\n",
    "plt.legend()\n",
    "plt.show()"
   ]
  },
  {
   "cell_type": "markdown",
   "id": "d18741bf",
   "metadata": {},
   "source": [
    "## Support Vectors"
   ]
  },
  {
   "cell_type": "code",
   "execution_count": 69,
   "id": "23a9cf1e",
   "metadata": {},
   "outputs": [
    {
     "name": "stdout",
     "output_type": "stream",
     "text": [
      "              precision    recall  f1-score   support\n",
      "\n",
      "           0       0.91      0.86      0.88       379\n",
      "           1       0.86      0.91      0.89       376\n",
      "\n",
      "    accuracy                           0.89       755\n",
      "   macro avg       0.89      0.89      0.89       755\n",
      "weighted avg       0.89      0.89      0.89       755\n",
      "\n"
     ]
    }
   ],
   "source": [
    "sup=SVC()\n",
    "sup.fit(x_train,y_train)\n",
    "pred=sup.predict(x_test)\n",
    "sv_clas=classification_report(y_test,pred)\n",
    "print(sv_clas)"
   ]
  },
  {
   "cell_type": "code",
   "execution_count": 70,
   "id": "3a31f08b",
   "metadata": {},
   "outputs": [
    {
     "data": {
      "image/png": "[encoded data removed]",
      "text/plain": [
       "<Figure size 432x288 with 1 Axes>"
      ]
     },
     "metadata": {
      "needs_background": "light"
     },
     "output_type": "display_data"
    }
   ],
   "source": [
    "fpr, tpr, thresholds =roc_curve(y_test, pred)\n",
    "area_under_curve=roc_auc_score(y_test, pred)\n",
    "# Print ROC curve\n",
    "plt.plot(fpr,tpr,label='ROC')\n",
    "plt.plot([0,1],[0,1],color='darkblue',linestyle='--',label='ROC Curve(area=%0.3f)'%area_under_curve)\n",
    "plt.legend()\n",
    "plt.show()"
   ]
  },
  {
   "cell_type": "markdown",
   "id": "e3d12d55",
   "metadata": {},
   "source": [
    "## Logistic Regression"
   ]
  },
  {
   "cell_type": "code",
   "execution_count": 71,
   "id": "4fe6a738",
   "metadata": {},
   "outputs": [
    {
     "name": "stdout",
     "output_type": "stream",
     "text": [
      "              precision    recall  f1-score   support\n",
      "\n",
      "           0       0.84      0.79      0.81       379\n",
      "           1       0.80      0.85      0.82       376\n",
      "\n",
      "    accuracy                           0.82       755\n",
      "   macro avg       0.82      0.82      0.82       755\n",
      "weighted avg       0.82      0.82      0.82       755\n",
      "\n"
     ]
    }
   ],
   "source": [
    "from sklearn.linear_model import LogisticRegression\n",
    "lr=LogisticRegression()\n",
    "lr.fit(x_train,y_train)\n",
    "pred=lr.predict(x_test)\n",
    "lr_clas=classification_report(y_test,pred)\n",
    "print(lr_clas)"
   ]
  },
  {
   "cell_type": "code",
   "execution_count": 72,
   "id": "5a4f7fbd",
   "metadata": {},
   "outputs": [
    {
     "data": {
      "image/png": "[encoded data removed]",
      "text/plain": [
       "<Figure size 432x288 with 1 Axes>"
      ]
     },
     "metadata": {
      "needs_background": "light"
     },
     "output_type": "display_data"
    }
   ],
   "source": [
    "fpr, tpr, thresholds =roc_curve(y_test, pred)\n",
    "area_under_curve=roc_auc_score(y_test, pred)\n",
    "# Print ROC curve\n",
    "plt.plot(fpr,tpr,label='ROC')\n",
    "plt.plot([0,1],[0,1],color='darkblue',linestyle='--',label='ROC Curve(area=%0.3f)'%area_under_curve)\n",
    "plt.legend()\n",
    "plt.show()"
   ]
  },
  {
   "cell_type": "markdown",
   "id": "8923042b",
   "metadata": {},
   "source": [
    "## Cross Validation"
   ]
  },
  {
   "cell_type": "code",
   "execution_count": 73,
   "id": "3c1fbc09",
   "metadata": {},
   "outputs": [
    {
     "name": "stdout",
     "output_type": "stream",
     "text": [
      "0.858392999204455\n",
      "0.903739061256961\n",
      "0.8595863166268894\n",
      "0.8011137629276055\n"
     ]
    }
   ],
   "source": [
    "from sklearn.model_selection import cross_val_score\n",
    "print(cross_val_score(dtc,x,y,cv=3).mean())\n",
    "print(cross_val_score(rfc,x,y,cv=3).mean())\n",
    "print(cross_val_score(sup,x,y,cv=3).mean())\n",
    "print(cross_val_score(lr,x,y,cv=3).mean())"
   ]
  },
  {
   "cell_type": "markdown",
   "id": "4db11579",
   "metadata": {},
   "source": [
    "## From AUC and Cross_val_score, we can choose random forest as best model"
   ]
  },
  {
   "cell_type": "markdown",
   "id": "1cface87",
   "metadata": {},
   "source": [
    "## Hyper Parameter Tuning"
   ]
  },
  {
   "cell_type": "code",
   "execution_count": 74,
   "id": "e6234136",
   "metadata": {},
   "outputs": [
    {
     "name": "stdout",
     "output_type": "stream",
     "text": [
      "{'criterion': 'entropy', 'max_features': 'log2', 'n_estimators': 13}\n"
     ]
    }
   ],
   "source": [
    "parameters={'max_features':['auto', 'sqrt', 'log2'],'criterion':['gini', 'entropy'],'n_estimators':list(range(10,20))}\n",
    "gsc=GridSearchCV(rfc,parameters)\n",
    "gsc.fit(x_train,y_train)\n",
    "print(gsc.best_params_)"
   ]
  },
  {
   "cell_type": "code",
   "execution_count": 75,
   "id": "0d50ace4",
   "metadata": {},
   "outputs": [
    {
     "data": {
      "text/plain": [
       "93.50993377483444"
      ]
     },
     "execution_count": 75,
     "metadata": {},
     "output_type": "execute_result"
    }
   ],
   "source": [
    "final_wine=RandomForestClassifier(criterion='entropy',max_features='log2',n_estimators=13)\n",
    "final_wine.fit(x_train,y_train)\n",
    "pred=final_wine.predict(x_test)\n",
    "rfc_acc=accuracy_score(y_test,pred)\n",
    "rfc_acc*100"
   ]
  },
  {
   "cell_type": "markdown",
   "id": "65fbec06",
   "metadata": {},
   "source": [
    "## Saving the Model"
   ]
  },
  {
   "cell_type": "code",
   "execution_count": 76,
   "id": "a8d22424",
   "metadata": {},
   "outputs": [
    {
     "data": {
      "text/plain": [
       "['Final_wine_mod.pkl']"
      ]
     },
     "execution_count": 76,
     "metadata": {},
     "output_type": "execute_result"
    }
   ],
   "source": [
    "import joblib\n",
    "joblib.dump(final_wine,'Final_wine_mod.pkl')"
   ]
  }
 ],
 "metadata": {
  "kernelspec": {
   "display_name": "Python 3",
   "language": "python",
   "name": "python3"
  },
  "language_info": {
   "codemirror_mode": {
    "name": "ipython",
    "version": 3
   },
   "file_extension": ".py",
   "mimetype": "text/x-python",
   "name": "python",
   "nbconvert_exporter": "python",
   "pygments_lexer": "ipython3",
   "version": "3.8.8"
  }
 },
 "nbformat": 4,
 "nbformat_minor": 5
}
