{
 "cells": [
  {
   "cell_type": "markdown",
   "id": "78b8bdef",
   "metadata": {},
   "source": [
    "# Mushroom Project"
   ]
  },
  {
   "cell_type": "code",
   "execution_count": 1,
   "id": "493ecf14",
   "metadata": {},
   "outputs": [],
   "source": [
    "import pandas as pd\n",
    "import numpy as np\n",
    "import matplotlib.pyplot as plt\n",
    "import warnings\n",
    "warnings.filterwarnings('ignore')\n",
    "import seaborn as sns"
   ]
  },
  {
   "cell_type": "code",
   "execution_count": 2,
   "id": "f5d83226",
   "metadata": {},
   "outputs": [],
   "source": [
    "df=pd.read_csv('C:\\\\Users\\\\DELL\\\\Desktop\\\\Data Trained\\\\Practice Projects\\\\mushrooms.csv')"
   ]
  },
  {
   "cell_type": "code",
   "execution_count": 3,
   "id": "d1feffe9",
   "metadata": {},
   "outputs": [
    {
     "data": {
      "text/html": [
       "<div>\n",
       "<style scoped>\n",
       "    .dataframe tbody tr th:only-of-type {\n",
       "        vertical-align: middle;\n",
       "    }\n",
       "\n",
       "    .dataframe tbody tr th {\n",
       "        vertical-align: top;\n",
       "    }\n",
       "\n",
       "    .dataframe thead th {\n",
       "        text-align: right;\n",
       "    }\n",
       "</style>\n",
       "<table border=\"1\" class=\"dataframe\">\n",
       "  <thead>\n",
       "    <tr style=\"text-align: right;\">\n",
       "      <th></th>\n",
       "      <th>class</th>\n",
       "      <th>cap-shape</th>\n",
       "      <th>cap-surface</th>\n",
       "      <th>cap-color</th>\n",
       "      <th>bruises</th>\n",
       "      <th>odor</th>\n",
       "      <th>gill-attachment</th>\n",
       "      <th>gill-spacing</th>\n",
       "      <th>gill-size</th>\n",
       "      <th>gill-color</th>\n",
       "      <th>...</th>\n",
       "      <th>stalk-surface-below-ring</th>\n",
       "      <th>stalk-color-above-ring</th>\n",
       "      <th>stalk-color-below-ring</th>\n",
       "      <th>veil-type</th>\n",
       "      <th>veil-color</th>\n",
       "      <th>ring-number</th>\n",
       "      <th>ring-type</th>\n",
       "      <th>spore-print-color</th>\n",
       "      <th>population</th>\n",
       "      <th>habitat</th>\n",
       "    </tr>\n",
       "  </thead>\n",
       "  <tbody>\n",
       "    <tr>\n",
       "      <th>0</th>\n",
       "      <td>p</td>\n",
       "      <td>x</td>\n",
       "      <td>s</td>\n",
       "      <td>n</td>\n",
       "      <td>t</td>\n",
       "      <td>p</td>\n",
       "      <td>f</td>\n",
       "      <td>c</td>\n",
       "      <td>n</td>\n",
       "      <td>k</td>\n",
       "      <td>...</td>\n",
       "      <td>s</td>\n",
       "      <td>w</td>\n",
       "      <td>w</td>\n",
       "      <td>p</td>\n",
       "      <td>w</td>\n",
       "      <td>o</td>\n",
       "      <td>p</td>\n",
       "      <td>k</td>\n",
       "      <td>s</td>\n",
       "      <td>u</td>\n",
       "    </tr>\n",
       "    <tr>\n",
       "      <th>1</th>\n",
       "      <td>e</td>\n",
       "      <td>x</td>\n",
       "      <td>s</td>\n",
       "      <td>y</td>\n",
       "      <td>t</td>\n",
       "      <td>a</td>\n",
       "      <td>f</td>\n",
       "      <td>c</td>\n",
       "      <td>b</td>\n",
       "      <td>k</td>\n",
       "      <td>...</td>\n",
       "      <td>s</td>\n",
       "      <td>w</td>\n",
       "      <td>w</td>\n",
       "      <td>p</td>\n",
       "      <td>w</td>\n",
       "      <td>o</td>\n",
       "      <td>p</td>\n",
       "      <td>n</td>\n",
       "      <td>n</td>\n",
       "      <td>g</td>\n",
       "    </tr>\n",
       "    <tr>\n",
       "      <th>2</th>\n",
       "      <td>e</td>\n",
       "      <td>b</td>\n",
       "      <td>s</td>\n",
       "      <td>w</td>\n",
       "      <td>t</td>\n",
       "      <td>l</td>\n",
       "      <td>f</td>\n",
       "      <td>c</td>\n",
       "      <td>b</td>\n",
       "      <td>n</td>\n",
       "      <td>...</td>\n",
       "      <td>s</td>\n",
       "      <td>w</td>\n",
       "      <td>w</td>\n",
       "      <td>p</td>\n",
       "      <td>w</td>\n",
       "      <td>o</td>\n",
       "      <td>p</td>\n",
       "      <td>n</td>\n",
       "      <td>n</td>\n",
       "      <td>m</td>\n",
       "    </tr>\n",
       "    <tr>\n",
       "      <th>3</th>\n",
       "      <td>p</td>\n",
       "      <td>x</td>\n",
       "      <td>y</td>\n",
       "      <td>w</td>\n",
       "      <td>t</td>\n",
       "      <td>p</td>\n",
       "      <td>f</td>\n",
       "      <td>c</td>\n",
       "      <td>n</td>\n",
       "      <td>n</td>\n",
       "      <td>...</td>\n",
       "      <td>s</td>\n",
       "      <td>w</td>\n",
       "      <td>w</td>\n",
       "      <td>p</td>\n",
       "      <td>w</td>\n",
       "      <td>o</td>\n",
       "      <td>p</td>\n",
       "      <td>k</td>\n",
       "      <td>s</td>\n",
       "      <td>u</td>\n",
       "    </tr>\n",
       "    <tr>\n",
       "      <th>4</th>\n",
       "      <td>e</td>\n",
       "      <td>x</td>\n",
       "      <td>s</td>\n",
       "      <td>g</td>\n",
       "      <td>f</td>\n",
       "      <td>n</td>\n",
       "      <td>f</td>\n",
       "      <td>w</td>\n",
       "      <td>b</td>\n",
       "      <td>k</td>\n",
       "      <td>...</td>\n",
       "      <td>s</td>\n",
       "      <td>w</td>\n",
       "      <td>w</td>\n",
       "      <td>p</td>\n",
       "      <td>w</td>\n",
       "      <td>o</td>\n",
       "      <td>e</td>\n",
       "      <td>n</td>\n",
       "      <td>a</td>\n",
       "      <td>g</td>\n",
       "    </tr>\n",
       "  </tbody>\n",
       "</table>\n",
       "<p>5 rows × 23 columns</p>\n",
       "</div>"
      ],
      "text/plain": [
       "  class cap-shape cap-surface cap-color bruises odor gill-attachment  \\\n",
       "0     p         x           s         n       t    p               f   \n",
       "1     e         x           s         y       t    a               f   \n",
       "2     e         b           s         w       t    l               f   \n",
       "3     p         x           y         w       t    p               f   \n",
       "4     e         x           s         g       f    n               f   \n",
       "\n",
       "  gill-spacing gill-size gill-color  ... stalk-surface-below-ring  \\\n",
       "0            c         n          k  ...                        s   \n",
       "1            c         b          k  ...                        s   \n",
       "2            c         b          n  ...                        s   \n",
       "3            c         n          n  ...                        s   \n",
       "4            w         b          k  ...                        s   \n",
       "\n",
       "  stalk-color-above-ring stalk-color-below-ring veil-type veil-color  \\\n",
       "0                      w                      w         p          w   \n",
       "1                      w                      w         p          w   \n",
       "2                      w                      w         p          w   \n",
       "3                      w                      w         p          w   \n",
       "4                      w                      w         p          w   \n",
       "\n",
       "  ring-number ring-type spore-print-color population habitat  \n",
       "0           o         p                 k          s       u  \n",
       "1           o         p                 n          n       g  \n",
       "2           o         p                 n          n       m  \n",
       "3           o         p                 k          s       u  \n",
       "4           o         e                 n          a       g  \n",
       "\n",
       "[5 rows x 23 columns]"
      ]
     },
     "execution_count": 3,
     "metadata": {},
     "output_type": "execute_result"
    }
   ],
   "source": [
    "df.head()"
   ]
  },
  {
   "cell_type": "markdown",
   "id": "cc31d181",
   "metadata": {},
   "source": [
    "## EDA"
   ]
  },
  {
   "cell_type": "code",
   "execution_count": 4,
   "id": "f78c8552",
   "metadata": {},
   "outputs": [
    {
     "data": {
      "text/plain": [
       "(8124, 23)"
      ]
     },
     "execution_count": 4,
     "metadata": {},
     "output_type": "execute_result"
    }
   ],
   "source": [
    "df.shape"
   ]
  },
  {
   "cell_type": "code",
   "execution_count": 5,
   "id": "99b1f6d4",
   "metadata": {},
   "outputs": [
    {
     "data": {
      "text/plain": [
       "class                       object\n",
       "cap-shape                   object\n",
       "cap-surface                 object\n",
       "cap-color                   object\n",
       "bruises                     object\n",
       "odor                        object\n",
       "gill-attachment             object\n",
       "gill-spacing                object\n",
       "gill-size                   object\n",
       "gill-color                  object\n",
       "stalk-shape                 object\n",
       "stalk-root                  object\n",
       "stalk-surface-above-ring    object\n",
       "stalk-surface-below-ring    object\n",
       "stalk-color-above-ring      object\n",
       "stalk-color-below-ring      object\n",
       "veil-type                   object\n",
       "veil-color                  object\n",
       "ring-number                 object\n",
       "ring-type                   object\n",
       "spore-print-color           object\n",
       "population                  object\n",
       "habitat                     object\n",
       "dtype: object"
      ]
     },
     "execution_count": 5,
     "metadata": {},
     "output_type": "execute_result"
    }
   ],
   "source": [
    "df.dtypes"
   ]
  },
  {
   "cell_type": "code",
   "execution_count": 6,
   "id": "44022a90",
   "metadata": {},
   "outputs": [
    {
     "data": {
      "text/plain": [
       "class                       0\n",
       "cap-shape                   0\n",
       "cap-surface                 0\n",
       "cap-color                   0\n",
       "bruises                     0\n",
       "odor                        0\n",
       "gill-attachment             0\n",
       "gill-spacing                0\n",
       "gill-size                   0\n",
       "gill-color                  0\n",
       "stalk-shape                 0\n",
       "stalk-root                  0\n",
       "stalk-surface-above-ring    0\n",
       "stalk-surface-below-ring    0\n",
       "stalk-color-above-ring      0\n",
       "stalk-color-below-ring      0\n",
       "veil-type                   0\n",
       "veil-color                  0\n",
       "ring-number                 0\n",
       "ring-type                   0\n",
       "spore-print-color           0\n",
       "population                  0\n",
       "habitat                     0\n",
       "dtype: int64"
      ]
     },
     "execution_count": 6,
     "metadata": {},
     "output_type": "execute_result"
    }
   ],
   "source": [
    "df.isnull().sum()"
   ]
  },
  {
   "cell_type": "markdown",
   "id": "4a75d603",
   "metadata": {},
   "source": [
    "### There are no missing values"
   ]
  },
  {
   "cell_type": "markdown",
   "id": "7f97e8d2",
   "metadata": {},
   "source": [
    "## Univariate Analysis"
   ]
  },
  {
   "cell_type": "code",
   "execution_count": 7,
   "id": "977f4ba3",
   "metadata": {},
   "outputs": [
    {
     "data": {
      "text/plain": [
       "<AxesSubplot:xlabel='class', ylabel='count'>"
      ]
     },
     "execution_count": 7,
     "metadata": {},
     "output_type": "execute_result"
    },
    {
     "data": {
      "image/png": "[encoded data removed]",
      "text/plain": [
       "<Figure size 432x288 with 1 Axes>"
      ]
     },
     "metadata": {
      "needs_background": "light"
     },
     "output_type": "display_data"
    }
   ],
   "source": [
    "sns.countplot(df['class'])"
   ]
  },
  {
   "cell_type": "code",
   "execution_count": 8,
   "id": "c90976eb",
   "metadata": {},
   "outputs": [
    {
     "data": {
      "text/plain": [
       "e    4208\n",
       "p    3916\n",
       "Name: class, dtype: int64"
      ]
     },
     "execution_count": 8,
     "metadata": {},
     "output_type": "execute_result"
    }
   ],
   "source": [
    "df['class'].value_counts()"
   ]
  },
  {
   "cell_type": "markdown",
   "id": "5ae21cc1",
   "metadata": {},
   "source": [
    "### There are almost equal number of e and p. So, there is no class imbalance."
   ]
  },
  {
   "cell_type": "markdown",
   "id": "d99d5f02",
   "metadata": {},
   "source": [
    "### Since, all the columns are with labeled data, no need to check outliers and skewness. Hence not plotting dist plot and boxplots."
   ]
  },
  {
   "cell_type": "markdown",
   "id": "66d2dd17",
   "metadata": {},
   "source": [
    "## Encoding the labeled data"
   ]
  },
  {
   "cell_type": "code",
   "execution_count": 9,
   "id": "6e8e1c20",
   "metadata": {},
   "outputs": [],
   "source": [
    "import sklearn\n",
    "from sklearn.preprocessing import LabelEncoder\n",
    "le=LabelEncoder()\n",
    "col=df.columns\n",
    "for i in col:\n",
    "    df[i]=le.fit_transform(df[i])"
   ]
  },
  {
   "cell_type": "code",
   "execution_count": 10,
   "id": "b5ac45f0",
   "metadata": {},
   "outputs": [
    {
     "data": {
      "text/html": [
       "<div>\n",
       "<style scoped>\n",
       "    .dataframe tbody tr th:only-of-type {\n",
       "        vertical-align: middle;\n",
       "    }\n",
       "\n",
       "    .dataframe tbody tr th {\n",
       "        vertical-align: top;\n",
       "    }\n",
       "\n",
       "    .dataframe thead th {\n",
       "        text-align: right;\n",
       "    }\n",
       "</style>\n",
       "<table border=\"1\" class=\"dataframe\">\n",
       "  <thead>\n",
       "    <tr style=\"text-align: right;\">\n",
       "      <th></th>\n",
       "      <th>class</th>\n",
       "      <th>cap-shape</th>\n",
       "      <th>cap-surface</th>\n",
       "      <th>cap-color</th>\n",
       "      <th>bruises</th>\n",
       "      <th>odor</th>\n",
       "      <th>gill-attachment</th>\n",
       "      <th>gill-spacing</th>\n",
       "      <th>gill-size</th>\n",
       "      <th>gill-color</th>\n",
       "      <th>...</th>\n",
       "      <th>stalk-surface-below-ring</th>\n",
       "      <th>stalk-color-above-ring</th>\n",
       "      <th>stalk-color-below-ring</th>\n",
       "      <th>veil-type</th>\n",
       "      <th>veil-color</th>\n",
       "      <th>ring-number</th>\n",
       "      <th>ring-type</th>\n",
       "      <th>spore-print-color</th>\n",
       "      <th>population</th>\n",
       "      <th>habitat</th>\n",
       "    </tr>\n",
       "  </thead>\n",
       "  <tbody>\n",
       "    <tr>\n",
       "      <th>0</th>\n",
       "      <td>1</td>\n",
       "      <td>5</td>\n",
       "      <td>2</td>\n",
       "      <td>4</td>\n",
       "      <td>1</td>\n",
       "      <td>6</td>\n",
       "      <td>1</td>\n",
       "      <td>0</td>\n",
       "      <td>1</td>\n",
       "      <td>4</td>\n",
       "      <td>...</td>\n",
       "      <td>2</td>\n",
       "      <td>7</td>\n",
       "      <td>7</td>\n",
       "      <td>0</td>\n",
       "      <td>2</td>\n",
       "      <td>1</td>\n",
       "      <td>4</td>\n",
       "      <td>2</td>\n",
       "      <td>3</td>\n",
       "      <td>5</td>\n",
       "    </tr>\n",
       "    <tr>\n",
       "      <th>1</th>\n",
       "      <td>0</td>\n",
       "      <td>5</td>\n",
       "      <td>2</td>\n",
       "      <td>9</td>\n",
       "      <td>1</td>\n",
       "      <td>0</td>\n",
       "      <td>1</td>\n",
       "      <td>0</td>\n",
       "      <td>0</td>\n",
       "      <td>4</td>\n",
       "      <td>...</td>\n",
       "      <td>2</td>\n",
       "      <td>7</td>\n",
       "      <td>7</td>\n",
       "      <td>0</td>\n",
       "      <td>2</td>\n",
       "      <td>1</td>\n",
       "      <td>4</td>\n",
       "      <td>3</td>\n",
       "      <td>2</td>\n",
       "      <td>1</td>\n",
       "    </tr>\n",
       "    <tr>\n",
       "      <th>2</th>\n",
       "      <td>0</td>\n",
       "      <td>0</td>\n",
       "      <td>2</td>\n",
       "      <td>8</td>\n",
       "      <td>1</td>\n",
       "      <td>3</td>\n",
       "      <td>1</td>\n",
       "      <td>0</td>\n",
       "      <td>0</td>\n",
       "      <td>5</td>\n",
       "      <td>...</td>\n",
       "      <td>2</td>\n",
       "      <td>7</td>\n",
       "      <td>7</td>\n",
       "      <td>0</td>\n",
       "      <td>2</td>\n",
       "      <td>1</td>\n",
       "      <td>4</td>\n",
       "      <td>3</td>\n",
       "      <td>2</td>\n",
       "      <td>3</td>\n",
       "    </tr>\n",
       "    <tr>\n",
       "      <th>3</th>\n",
       "      <td>1</td>\n",
       "      <td>5</td>\n",
       "      <td>3</td>\n",
       "      <td>8</td>\n",
       "      <td>1</td>\n",
       "      <td>6</td>\n",
       "      <td>1</td>\n",
       "      <td>0</td>\n",
       "      <td>1</td>\n",
       "      <td>5</td>\n",
       "      <td>...</td>\n",
       "      <td>2</td>\n",
       "      <td>7</td>\n",
       "      <td>7</td>\n",
       "      <td>0</td>\n",
       "      <td>2</td>\n",
       "      <td>1</td>\n",
       "      <td>4</td>\n",
       "      <td>2</td>\n",
       "      <td>3</td>\n",
       "      <td>5</td>\n",
       "    </tr>\n",
       "    <tr>\n",
       "      <th>4</th>\n",
       "      <td>0</td>\n",
       "      <td>5</td>\n",
       "      <td>2</td>\n",
       "      <td>3</td>\n",
       "      <td>0</td>\n",
       "      <td>5</td>\n",
       "      <td>1</td>\n",
       "      <td>1</td>\n",
       "      <td>0</td>\n",
       "      <td>4</td>\n",
       "      <td>...</td>\n",
       "      <td>2</td>\n",
       "      <td>7</td>\n",
       "      <td>7</td>\n",
       "      <td>0</td>\n",
       "      <td>2</td>\n",
       "      <td>1</td>\n",
       "      <td>0</td>\n",
       "      <td>3</td>\n",
       "      <td>0</td>\n",
       "      <td>1</td>\n",
       "    </tr>\n",
       "  </tbody>\n",
       "</table>\n",
       "<p>5 rows × 23 columns</p>\n",
       "</div>"
      ],
      "text/plain": [
       "   class  cap-shape  cap-surface  cap-color  bruises  odor  gill-attachment  \\\n",
       "0      1          5            2          4        1     6                1   \n",
       "1      0          5            2          9        1     0                1   \n",
       "2      0          0            2          8        1     3                1   \n",
       "3      1          5            3          8        1     6                1   \n",
       "4      0          5            2          3        0     5                1   \n",
       "\n",
       "   gill-spacing  gill-size  gill-color  ...  stalk-surface-below-ring  \\\n",
       "0             0          1           4  ...                         2   \n",
       "1             0          0           4  ...                         2   \n",
       "2             0          0           5  ...                         2   \n",
       "3             0          1           5  ...                         2   \n",
       "4             1          0           4  ...                         2   \n",
       "\n",
       "   stalk-color-above-ring  stalk-color-below-ring  veil-type  veil-color  \\\n",
       "0                       7                       7          0           2   \n",
       "1                       7                       7          0           2   \n",
       "2                       7                       7          0           2   \n",
       "3                       7                       7          0           2   \n",
       "4                       7                       7          0           2   \n",
       "\n",
       "   ring-number  ring-type  spore-print-color  population  habitat  \n",
       "0            1          4                  2           3        5  \n",
       "1            1          4                  3           2        1  \n",
       "2            1          4                  3           2        3  \n",
       "3            1          4                  2           3        5  \n",
       "4            1          0                  3           0        1  \n",
       "\n",
       "[5 rows x 23 columns]"
      ]
     },
     "execution_count": 10,
     "metadata": {},
     "output_type": "execute_result"
    }
   ],
   "source": [
    "df.head()"
   ]
  },
  {
   "cell_type": "code",
   "execution_count": 11,
   "id": "0514e625",
   "metadata": {},
   "outputs": [],
   "source": [
    "x=df.drop('class',axis=1)\n",
    "y=df['class']"
   ]
  },
  {
   "cell_type": "markdown",
   "id": "edb981b1",
   "metadata": {},
   "source": [
    "## Scaling"
   ]
  },
  {
   "cell_type": "code",
   "execution_count": 12,
   "id": "b0148693",
   "metadata": {},
   "outputs": [],
   "source": [
    "from sklearn.preprocessing import StandardScaler\n",
    "scaler=StandardScaler()\n",
    "x=pd.DataFrame(scaler.fit_transform(x),columns=x.columns)"
   ]
  },
  {
   "cell_type": "code",
   "execution_count": 13,
   "id": "379bb0be",
   "metadata": {},
   "outputs": [
    {
     "data": {
      "text/html": [
       "<div>\n",
       "<style scoped>\n",
       "    .dataframe tbody tr th:only-of-type {\n",
       "        vertical-align: middle;\n",
       "    }\n",
       "\n",
       "    .dataframe tbody tr th {\n",
       "        vertical-align: top;\n",
       "    }\n",
       "\n",
       "    .dataframe thead th {\n",
       "        text-align: right;\n",
       "    }\n",
       "</style>\n",
       "<table border=\"1\" class=\"dataframe\">\n",
       "  <thead>\n",
       "    <tr style=\"text-align: right;\">\n",
       "      <th></th>\n",
       "      <th>cap-shape</th>\n",
       "      <th>cap-surface</th>\n",
       "      <th>cap-color</th>\n",
       "      <th>bruises</th>\n",
       "      <th>odor</th>\n",
       "      <th>gill-attachment</th>\n",
       "      <th>gill-spacing</th>\n",
       "      <th>gill-size</th>\n",
       "      <th>gill-color</th>\n",
       "      <th>stalk-shape</th>\n",
       "      <th>...</th>\n",
       "      <th>stalk-surface-below-ring</th>\n",
       "      <th>stalk-color-above-ring</th>\n",
       "      <th>stalk-color-below-ring</th>\n",
       "      <th>veil-type</th>\n",
       "      <th>veil-color</th>\n",
       "      <th>ring-number</th>\n",
       "      <th>ring-type</th>\n",
       "      <th>spore-print-color</th>\n",
       "      <th>population</th>\n",
       "      <th>habitat</th>\n",
       "    </tr>\n",
       "  </thead>\n",
       "  <tbody>\n",
       "    <tr>\n",
       "      <th>0</th>\n",
       "      <td>1.029712</td>\n",
       "      <td>0.140128</td>\n",
       "      <td>-0.198250</td>\n",
       "      <td>1.185917</td>\n",
       "      <td>0.881938</td>\n",
       "      <td>0.162896</td>\n",
       "      <td>-0.438864</td>\n",
       "      <td>1.494683</td>\n",
       "      <td>-0.228998</td>\n",
       "      <td>-1.144806</td>\n",
       "      <td>...</td>\n",
       "      <td>0.586385</td>\n",
       "      <td>0.622441</td>\n",
       "      <td>0.631991</td>\n",
       "      <td>0.0</td>\n",
       "      <td>0.142037</td>\n",
       "      <td>-0.256132</td>\n",
       "      <td>0.948081</td>\n",
       "      <td>-0.670195</td>\n",
       "      <td>-0.514389</td>\n",
       "      <td>2.030028</td>\n",
       "    </tr>\n",
       "    <tr>\n",
       "      <th>1</th>\n",
       "      <td>1.029712</td>\n",
       "      <td>0.140128</td>\n",
       "      <td>1.765874</td>\n",
       "      <td>1.185917</td>\n",
       "      <td>-1.970316</td>\n",
       "      <td>0.162896</td>\n",
       "      <td>-0.438864</td>\n",
       "      <td>-0.669038</td>\n",
       "      <td>-0.228998</td>\n",
       "      <td>-1.144806</td>\n",
       "      <td>...</td>\n",
       "      <td>0.586385</td>\n",
       "      <td>0.622441</td>\n",
       "      <td>0.631991</td>\n",
       "      <td>0.0</td>\n",
       "      <td>0.142037</td>\n",
       "      <td>-0.256132</td>\n",
       "      <td>0.948081</td>\n",
       "      <td>-0.250471</td>\n",
       "      <td>-1.313108</td>\n",
       "      <td>-0.295730</td>\n",
       "    </tr>\n",
       "    <tr>\n",
       "      <th>2</th>\n",
       "      <td>-2.087047</td>\n",
       "      <td>0.140128</td>\n",
       "      <td>1.373049</td>\n",
       "      <td>1.185917</td>\n",
       "      <td>-0.544189</td>\n",
       "      <td>0.162896</td>\n",
       "      <td>-0.438864</td>\n",
       "      <td>-0.669038</td>\n",
       "      <td>0.053477</td>\n",
       "      <td>-1.144806</td>\n",
       "      <td>...</td>\n",
       "      <td>0.586385</td>\n",
       "      <td>0.622441</td>\n",
       "      <td>0.631991</td>\n",
       "      <td>0.0</td>\n",
       "      <td>0.142037</td>\n",
       "      <td>-0.256132</td>\n",
       "      <td>0.948081</td>\n",
       "      <td>-0.250471</td>\n",
       "      <td>-1.313108</td>\n",
       "      <td>0.867149</td>\n",
       "    </tr>\n",
       "    <tr>\n",
       "      <th>3</th>\n",
       "      <td>1.029712</td>\n",
       "      <td>0.953270</td>\n",
       "      <td>1.373049</td>\n",
       "      <td>1.185917</td>\n",
       "      <td>0.881938</td>\n",
       "      <td>0.162896</td>\n",
       "      <td>-0.438864</td>\n",
       "      <td>1.494683</td>\n",
       "      <td>0.053477</td>\n",
       "      <td>-1.144806</td>\n",
       "      <td>...</td>\n",
       "      <td>0.586385</td>\n",
       "      <td>0.622441</td>\n",
       "      <td>0.631991</td>\n",
       "      <td>0.0</td>\n",
       "      <td>0.142037</td>\n",
       "      <td>-0.256132</td>\n",
       "      <td>0.948081</td>\n",
       "      <td>-0.670195</td>\n",
       "      <td>-0.514389</td>\n",
       "      <td>2.030028</td>\n",
       "    </tr>\n",
       "    <tr>\n",
       "      <th>4</th>\n",
       "      <td>1.029712</td>\n",
       "      <td>0.140128</td>\n",
       "      <td>-0.591075</td>\n",
       "      <td>-0.843230</td>\n",
       "      <td>0.406562</td>\n",
       "      <td>0.162896</td>\n",
       "      <td>2.278612</td>\n",
       "      <td>-0.669038</td>\n",
       "      <td>-0.228998</td>\n",
       "      <td>0.873511</td>\n",
       "      <td>...</td>\n",
       "      <td>0.586385</td>\n",
       "      <td>0.622441</td>\n",
       "      <td>0.631991</td>\n",
       "      <td>0.0</td>\n",
       "      <td>0.142037</td>\n",
       "      <td>-0.256132</td>\n",
       "      <td>-1.272216</td>\n",
       "      <td>-0.250471</td>\n",
       "      <td>-2.910546</td>\n",
       "      <td>-0.295730</td>\n",
       "    </tr>\n",
       "    <tr>\n",
       "      <th>...</th>\n",
       "      <td>...</td>\n",
       "      <td>...</td>\n",
       "      <td>...</td>\n",
       "      <td>...</td>\n",
       "      <td>...</td>\n",
       "      <td>...</td>\n",
       "      <td>...</td>\n",
       "      <td>...</td>\n",
       "      <td>...</td>\n",
       "      <td>...</td>\n",
       "      <td>...</td>\n",
       "      <td>...</td>\n",
       "      <td>...</td>\n",
       "      <td>...</td>\n",
       "      <td>...</td>\n",
       "      <td>...</td>\n",
       "      <td>...</td>\n",
       "      <td>...</td>\n",
       "      <td>...</td>\n",
       "      <td>...</td>\n",
       "      <td>...</td>\n",
       "    </tr>\n",
       "    <tr>\n",
       "      <th>8119</th>\n",
       "      <td>-0.216992</td>\n",
       "      <td>0.140128</td>\n",
       "      <td>-0.198250</td>\n",
       "      <td>-0.843230</td>\n",
       "      <td>0.406562</td>\n",
       "      <td>-6.138869</td>\n",
       "      <td>-0.438864</td>\n",
       "      <td>-0.669038</td>\n",
       "      <td>1.748325</td>\n",
       "      <td>-1.144806</td>\n",
       "      <td>...</td>\n",
       "      <td>0.586385</td>\n",
       "      <td>-0.429288</td>\n",
       "      <td>-0.416681</td>\n",
       "      <td>0.0</td>\n",
       "      <td>-3.979055</td>\n",
       "      <td>-0.256132</td>\n",
       "      <td>0.948081</td>\n",
       "      <td>-1.509643</td>\n",
       "      <td>-2.111827</td>\n",
       "      <td>0.285710</td>\n",
       "    </tr>\n",
       "    <tr>\n",
       "      <th>8120</th>\n",
       "      <td>1.029712</td>\n",
       "      <td>0.140128</td>\n",
       "      <td>-0.198250</td>\n",
       "      <td>-0.843230</td>\n",
       "      <td>0.406562</td>\n",
       "      <td>-6.138869</td>\n",
       "      <td>-0.438864</td>\n",
       "      <td>-0.669038</td>\n",
       "      <td>1.748325</td>\n",
       "      <td>-1.144806</td>\n",
       "      <td>...</td>\n",
       "      <td>0.586385</td>\n",
       "      <td>-0.429288</td>\n",
       "      <td>-0.416681</td>\n",
       "      <td>0.0</td>\n",
       "      <td>-8.100146</td>\n",
       "      <td>-0.256132</td>\n",
       "      <td>0.948081</td>\n",
       "      <td>-1.509643</td>\n",
       "      <td>0.284330</td>\n",
       "      <td>0.285710</td>\n",
       "    </tr>\n",
       "    <tr>\n",
       "      <th>8121</th>\n",
       "      <td>-0.840343</td>\n",
       "      <td>0.140128</td>\n",
       "      <td>-0.198250</td>\n",
       "      <td>-0.843230</td>\n",
       "      <td>0.406562</td>\n",
       "      <td>-6.138869</td>\n",
       "      <td>-0.438864</td>\n",
       "      <td>-0.669038</td>\n",
       "      <td>0.053477</td>\n",
       "      <td>-1.144806</td>\n",
       "      <td>...</td>\n",
       "      <td>0.586385</td>\n",
       "      <td>-0.429288</td>\n",
       "      <td>-0.416681</td>\n",
       "      <td>0.0</td>\n",
       "      <td>-3.979055</td>\n",
       "      <td>-0.256132</td>\n",
       "      <td>0.948081</td>\n",
       "      <td>-1.509643</td>\n",
       "      <td>-2.111827</td>\n",
       "      <td>0.285710</td>\n",
       "    </tr>\n",
       "    <tr>\n",
       "      <th>8122</th>\n",
       "      <td>-0.216992</td>\n",
       "      <td>0.953270</td>\n",
       "      <td>-0.198250</td>\n",
       "      <td>-0.843230</td>\n",
       "      <td>1.832689</td>\n",
       "      <td>0.162896</td>\n",
       "      <td>-0.438864</td>\n",
       "      <td>1.494683</td>\n",
       "      <td>-1.358896</td>\n",
       "      <td>0.873511</td>\n",
       "      <td>...</td>\n",
       "      <td>-0.893053</td>\n",
       "      <td>0.622441</td>\n",
       "      <td>0.631991</td>\n",
       "      <td>0.0</td>\n",
       "      <td>0.142037</td>\n",
       "      <td>-0.256132</td>\n",
       "      <td>-1.272216</td>\n",
       "      <td>1.428426</td>\n",
       "      <td>0.284330</td>\n",
       "      <td>0.285710</td>\n",
       "    </tr>\n",
       "    <tr>\n",
       "      <th>8123</th>\n",
       "      <td>1.029712</td>\n",
       "      <td>0.140128</td>\n",
       "      <td>-0.198250</td>\n",
       "      <td>-0.843230</td>\n",
       "      <td>0.406562</td>\n",
       "      <td>-6.138869</td>\n",
       "      <td>-0.438864</td>\n",
       "      <td>-0.669038</td>\n",
       "      <td>1.748325</td>\n",
       "      <td>-1.144806</td>\n",
       "      <td>...</td>\n",
       "      <td>0.586385</td>\n",
       "      <td>-0.429288</td>\n",
       "      <td>-0.416681</td>\n",
       "      <td>0.0</td>\n",
       "      <td>-3.979055</td>\n",
       "      <td>-0.256132</td>\n",
       "      <td>0.948081</td>\n",
       "      <td>0.169254</td>\n",
       "      <td>-2.111827</td>\n",
       "      <td>0.285710</td>\n",
       "    </tr>\n",
       "  </tbody>\n",
       "</table>\n",
       "<p>8124 rows × 22 columns</p>\n",
       "</div>"
      ],
      "text/plain": [
       "      cap-shape  cap-surface  cap-color   bruises      odor  gill-attachment  \\\n",
       "0      1.029712     0.140128  -0.198250  1.185917  0.881938         0.162896   \n",
       "1      1.029712     0.140128   1.765874  1.185917 -1.970316         0.162896   \n",
       "2     -2.087047     0.140128   1.373049  1.185917 -0.544189         0.162896   \n",
       "3      1.029712     0.953270   1.373049  1.185917  0.881938         0.162896   \n",
       "4      1.029712     0.140128  -0.591075 -0.843230  0.406562         0.162896   \n",
       "...         ...          ...        ...       ...       ...              ...   \n",
       "8119  -0.216992     0.140128  -0.198250 -0.843230  0.406562        -6.138869   \n",
       "8120   1.029712     0.140128  -0.198250 -0.843230  0.406562        -6.138869   \n",
       "8121  -0.840343     0.140128  -0.198250 -0.843230  0.406562        -6.138869   \n",
       "8122  -0.216992     0.953270  -0.198250 -0.843230  1.832689         0.162896   \n",
       "8123   1.029712     0.140128  -0.198250 -0.843230  0.406562        -6.138869   \n",
       "\n",
       "      gill-spacing  gill-size  gill-color  stalk-shape  ...  \\\n",
       "0        -0.438864   1.494683   -0.228998    -1.144806  ...   \n",
       "1        -0.438864  -0.669038   -0.228998    -1.144806  ...   \n",
       "2        -0.438864  -0.669038    0.053477    -1.144806  ...   \n",
       "3        -0.438864   1.494683    0.053477    -1.144806  ...   \n",
       "4         2.278612  -0.669038   -0.228998     0.873511  ...   \n",
       "...            ...        ...         ...          ...  ...   \n",
       "8119     -0.438864  -0.669038    1.748325    -1.144806  ...   \n",
       "8120     -0.438864  -0.669038    1.748325    -1.144806  ...   \n",
       "8121     -0.438864  -0.669038    0.053477    -1.144806  ...   \n",
       "8122     -0.438864   1.494683   -1.358896     0.873511  ...   \n",
       "8123     -0.438864  -0.669038    1.748325    -1.144806  ...   \n",
       "\n",
       "      stalk-surface-below-ring  stalk-color-above-ring  \\\n",
       "0                     0.586385                0.622441   \n",
       "1                     0.586385                0.622441   \n",
       "2                     0.586385                0.622441   \n",
       "3                     0.586385                0.622441   \n",
       "4                     0.586385                0.622441   \n",
       "...                        ...                     ...   \n",
       "8119                  0.586385               -0.429288   \n",
       "8120                  0.586385               -0.429288   \n",
       "8121                  0.586385               -0.429288   \n",
       "8122                 -0.893053                0.622441   \n",
       "8123                  0.586385               -0.429288   \n",
       "\n",
       "      stalk-color-below-ring  veil-type  veil-color  ring-number  ring-type  \\\n",
       "0                   0.631991        0.0    0.142037    -0.256132   0.948081   \n",
       "1                   0.631991        0.0    0.142037    -0.256132   0.948081   \n",
       "2                   0.631991        0.0    0.142037    -0.256132   0.948081   \n",
       "3                   0.631991        0.0    0.142037    -0.256132   0.948081   \n",
       "4                   0.631991        0.0    0.142037    -0.256132  -1.272216   \n",
       "...                      ...        ...         ...          ...        ...   \n",
       "8119               -0.416681        0.0   -3.979055    -0.256132   0.948081   \n",
       "8120               -0.416681        0.0   -8.100146    -0.256132   0.948081   \n",
       "8121               -0.416681        0.0   -3.979055    -0.256132   0.948081   \n",
       "8122                0.631991        0.0    0.142037    -0.256132  -1.272216   \n",
       "8123               -0.416681        0.0   -3.979055    -0.256132   0.948081   \n",
       "\n",
       "      spore-print-color  population   habitat  \n",
       "0             -0.670195   -0.514389  2.030028  \n",
       "1             -0.250471   -1.313108 -0.295730  \n",
       "2             -0.250471   -1.313108  0.867149  \n",
       "3             -0.670195   -0.514389  2.030028  \n",
       "4             -0.250471   -2.910546 -0.295730  \n",
       "...                 ...         ...       ...  \n",
       "8119          -1.509643   -2.111827  0.285710  \n",
       "8120          -1.509643    0.284330  0.285710  \n",
       "8121          -1.509643   -2.111827  0.285710  \n",
       "8122           1.428426    0.284330  0.285710  \n",
       "8123           0.169254   -2.111827  0.285710  \n",
       "\n",
       "[8124 rows x 22 columns]"
      ]
     },
     "execution_count": 13,
     "metadata": {},
     "output_type": "execute_result"
    }
   ],
   "source": [
    "x"
   ]
  },
  {
   "cell_type": "markdown",
   "id": "ea1b67c5",
   "metadata": {},
   "source": [
    "## Choosing Random State Value"
   ]
  },
  {
   "cell_type": "code",
   "execution_count": 14,
   "id": "7d275c6c",
   "metadata": {},
   "outputs": [
    {
     "name": "stdout",
     "output_type": "stream",
     "text": [
      "max accuracy= 1.0 ran state= 1\n"
     ]
    }
   ],
   "source": [
    "from sklearn.model_selection import train_test_split\n",
    "from sklearn.tree import DecisionTreeClassifier\n",
    "from sklearn.metrics import accuracy_score,classification_report\n",
    "maxac=0\n",
    "maxran=0\n",
    "for i in range(1,200):\n",
    "    x_train,x_test,y_train,y_test=train_test_split(x,y,test_size=0.3,random_state=i)\n",
    "    sam=DecisionTreeClassifier()\n",
    "    sam.fit(x_train,y_train)\n",
    "    pred=sam.predict(x_test)\n",
    "    acc=accuracy_score(y_test,pred)\n",
    "    if acc>maxac:\n",
    "        maxac=acc\n",
    "        maxran=i\n",
    "print('max accuracy=',maxac,'ran state=',maxran)"
   ]
  },
  {
   "cell_type": "code",
   "execution_count": 15,
   "id": "d5c4aa32",
   "metadata": {},
   "outputs": [],
   "source": [
    "x_train,x_test,y_train,y_test=train_test_split(x,y,test_size=0.3,random_state=1)"
   ]
  },
  {
   "cell_type": "code",
   "execution_count": 16,
   "id": "daee6844",
   "metadata": {},
   "outputs": [],
   "source": [
    "from sklearn.ensemble import RandomForestClassifier\n",
    "from sklearn.svm import SVC\n",
    "from sklearn.neighbors import KNeighborsClassifier"
   ]
  },
  {
   "cell_type": "markdown",
   "id": "369da3e3",
   "metadata": {},
   "source": [
    "## Model Selection"
   ]
  },
  {
   "cell_type": "code",
   "execution_count": 17,
   "id": "1135af5b",
   "metadata": {},
   "outputs": [
    {
     "name": "stdout",
     "output_type": "stream",
     "text": [
      "              precision    recall  f1-score   support\n",
      "\n",
      "           0       1.00      1.00      1.00      1236\n",
      "           1       1.00      1.00      1.00      1202\n",
      "\n",
      "    accuracy                           1.00      2438\n",
      "   macro avg       1.00      1.00      1.00      2438\n",
      "weighted avg       1.00      1.00      1.00      2438\n",
      "\n"
     ]
    }
   ],
   "source": [
    "dtc=DecisionTreeClassifier()\n",
    "dtc.fit(x_train,y_train)\n",
    "pred=dtc.predict(x_test)\n",
    "clas=classification_report(y_test,pred)\n",
    "print(clas)"
   ]
  },
  {
   "cell_type": "code",
   "execution_count": 18,
   "id": "5a43ea3b",
   "metadata": {},
   "outputs": [
    {
     "name": "stdout",
     "output_type": "stream",
     "text": [
      "              precision    recall  f1-score   support\n",
      "\n",
      "           0       1.00      1.00      1.00      1236\n",
      "           1       1.00      1.00      1.00      1202\n",
      "\n",
      "    accuracy                           1.00      2438\n",
      "   macro avg       1.00      1.00      1.00      2438\n",
      "weighted avg       1.00      1.00      1.00      2438\n",
      "\n"
     ]
    }
   ],
   "source": [
    "rfc=RandomForestClassifier()\n",
    "rfc.fit(x_train,y_train)\n",
    "pred=rfc.predict(x_test)\n",
    "clas=classification_report(y_test,pred)\n",
    "print(clas)"
   ]
  },
  {
   "cell_type": "code",
   "execution_count": 19,
   "id": "a6bee305",
   "metadata": {},
   "outputs": [
    {
     "name": "stdout",
     "output_type": "stream",
     "text": [
      "              precision    recall  f1-score   support\n",
      "\n",
      "           0       1.00      1.00      1.00      1236\n",
      "           1       1.00      1.00      1.00      1202\n",
      "\n",
      "    accuracy                           1.00      2438\n",
      "   macro avg       1.00      1.00      1.00      2438\n",
      "weighted avg       1.00      1.00      1.00      2438\n",
      "\n"
     ]
    }
   ],
   "source": [
    "sup=SVC()\n",
    "sup.fit(x_train,y_train)\n",
    "pred=sup.predict(x_test)\n",
    "clas=classification_report(y_test,pred)\n",
    "print(clas)"
   ]
  },
  {
   "cell_type": "markdown",
   "id": "614dcee3",
   "metadata": {},
   "source": [
    "## selecting n number"
   ]
  },
  {
   "cell_type": "code",
   "execution_count": 20,
   "id": "03f20eb6",
   "metadata": {},
   "outputs": [
    {
     "name": "stdout",
     "output_type": "stream",
     "text": [
      "accuracy= 1.0 neigh= 3\n"
     ]
    }
   ],
   "source": [
    "kmax=0\n",
    "nn=0\n",
    "for i in range(3,10,2):\n",
    "    knn=KNeighborsClassifier(n_neighbors=i)\n",
    "    knn.fit(x_train,y_train)\n",
    "    pred=knn.predict(x_test)\n",
    "    acc=accuracy_score(y_test,pred)\n",
    "    if acc>kmax:\n",
    "        kmax=acc\n",
    "        nn=i\n",
    "print('accuracy=',kmax,'neigh=',nn)"
   ]
  },
  {
   "cell_type": "code",
   "execution_count": 27,
   "id": "57bbe73e",
   "metadata": {},
   "outputs": [
    {
     "name": "stdout",
     "output_type": "stream",
     "text": [
      "              precision    recall  f1-score   support\n",
      "\n",
      "           0       1.00      1.00      1.00      1236\n",
      "           1       1.00      1.00      1.00      1202\n",
      "\n",
      "    accuracy                           1.00      2438\n",
      "   macro avg       1.00      1.00      1.00      2438\n",
      "weighted avg       1.00      1.00      1.00      2438\n",
      "\n"
     ]
    }
   ],
   "source": [
    "knn1=KNeighborsClassifier(n_neighbors=3)\n",
    "knn1.fit(x_train,y_train)\n",
    "pred=knn1.predict(x_test)\n",
    "clas=classification_report(y_test,pred)\n",
    "print(clas)"
   ]
  },
  {
   "cell_type": "markdown",
   "id": "81e8b4fe",
   "metadata": {},
   "source": [
    "## Cross Validation"
   ]
  },
  {
   "cell_type": "code",
   "execution_count": 22,
   "id": "38524f95",
   "metadata": {},
   "outputs": [
    {
     "name": "stdout",
     "output_type": "stream",
     "text": [
      "0.9207002652519893\n",
      "0.899649943160288\n",
      "0.8702213717317167\n",
      "0.8817978021978021\n"
     ]
    }
   ],
   "source": [
    "from sklearn.model_selection import cross_val_score\n",
    "print(cross_val_score(dtc,x,y,cv=5).mean())\n",
    "print(cross_val_score(rfc,x,y,cv=5).mean())\n",
    "print(cross_val_score(sup,x,y,cv=5).mean())\n",
    "print(cross_val_score(knn1,x,y,cv=5).mean())"
   ]
  },
  {
   "cell_type": "markdown",
   "id": "b5132852",
   "metadata": {},
   "source": [
    "### Decision tree is the best model since it has the least difference with accuracy"
   ]
  },
  {
   "cell_type": "markdown",
   "id": "dc4cc934",
   "metadata": {},
   "source": [
    "## Hyper Parameter Tuning"
   ]
  },
  {
   "cell_type": "code",
   "execution_count": 33,
   "id": "c666e4b7",
   "metadata": {},
   "outputs": [
    {
     "data": {
      "text/plain": [
       "{'criterion': 'gini',\n",
       " 'max_depth': 11,\n",
       " 'max_features': 'log2',\n",
       " 'splitter': 'best'}"
      ]
     },
     "execution_count": 33,
     "metadata": {},
     "output_type": "execute_result"
    }
   ],
   "source": [
    "from sklearn.model_selection import GridSearchCV\n",
    "parameters={'criterion':['gini', 'entropy'],\n",
    "           'splitter':['best', 'random'],\n",
    "           'max_features':['auto', 'sqrt', 'log2'],\n",
    "            'max_depth':np.arange(2,16)}\n",
    "GCV=GridSearchCV(DecisionTreeClassifier(),parameters,cv=5)\n",
    "GCV.fit(x_train,y_train)\n",
    "GCV.best_params_"
   ]
  },
  {
   "cell_type": "code",
   "execution_count": 34,
   "id": "d4649eca",
   "metadata": {},
   "outputs": [
    {
     "name": "stdout",
     "output_type": "stream",
     "text": [
      "100.0\n"
     ]
    }
   ],
   "source": [
    "Final_mod=DecisionTreeClassifier(criterion='gini',max_depth=11,max_features='log2',splitter='best')\n",
    "Final_mod.fit(x_train,y_train)\n",
    "pred=Final_mod.predict(x_test)\n",
    "acc=accuracy_score(y_test,pred)\n",
    "print(acc*100)"
   ]
  },
  {
   "cell_type": "markdown",
   "id": "0f2df7a4",
   "metadata": {},
   "source": [
    "## Saving the Model"
   ]
  },
  {
   "cell_type": "code",
   "execution_count": 35,
   "id": "43f99ff5",
   "metadata": {},
   "outputs": [
    {
     "data": {
      "text/plain": [
       "['Final_model.pkl']"
      ]
     },
     "execution_count": 35,
     "metadata": {},
     "output_type": "execute_result"
    }
   ],
   "source": [
    "import joblib\n",
    "joblib.dump(Final_mod,'Final_model.pkl')"
   ]
  },
  {
   "cell_type": "code",
   "execution_count": null,
   "id": "e3cf3d14",
   "metadata": {},
   "outputs": [],
   "source": []
  }
 ],
 "metadata": {
  "kernelspec": {
   "display_name": "Python 3",
   "language": "python",
   "name": "python3"
  },
  "language_info": {
   "codemirror_mode": {
    "name": "ipython",
    "version": 3
   },
   "file_extension": ".py",
   "mimetype": "text/x-python",
   "name": "python",
   "nbconvert_exporter": "python",
   "pygments_lexer": "ipython3",
   "version": "3.8.8"
  }
 },
 "nbformat": 4,
 "nbformat_minor": 5
}
